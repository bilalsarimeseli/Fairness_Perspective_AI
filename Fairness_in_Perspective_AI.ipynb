{
  "nbformat": 4,
  "nbformat_minor": 0,
  "metadata": {
    "colab": {
      "provenance": [],
      "collapsed_sections": [
        "J3R2QWkru1WN",
        "UFBqqnRD-Zkj",
        "6KmrCS-uAz0s",
        "IvvxNMgM-6A2",
        "-J4hbOhgHZid",
        "tGyACRd8oFwP",
        "FQGWSdrJy08B",
        "LlkfgynX0yfF",
        "FBhBsevUOinO",
        "P5MBQR7EF6ny",
        "OaL3qgHCcmwG"
      ],
      "include_colab_link": true
    },
    "kernelspec": {
      "display_name": "Python 3",
      "name": "python3"
    }
  },
  "cells": [
    {
      "cell_type": "markdown",
      "metadata": {
        "id": "view-in-github",
        "colab_type": "text"
      },
      "source": [
        "<a href=\"https://colab.research.google.com/github/bilalsarimeseli/Fairness_Perspective_AI/blob/main/Fairness_in_Perspective_AI.ipynb\" target=\"_parent\"><img src=\"https://colab.research.google.com/assets/colab-badge.svg\" alt=\"Open In Colab\"/></a>"
      ]
    },
    {
      "cell_type": "markdown",
      "metadata": {
        "id": "HnU0fNSuG2aD"
      },
      "source": [
        "# Explore the Model"
      ]
    },
    {
      "cell_type": "markdown",
      "metadata": {
        "id": "iVkPBosnIFlu"
      },
      "source": [
        "**Goals:**\n",
        "* Train a classifier to predict toxicity of text comments. \n",
        "* Explore the Civil Comments dataset and explore the toxic-text classifier's predictions using the What-If Tool.\n",
        "* Install and use Fairness Indicators to evaluate the toxic-text classifier's results.\n",
        "* Identify the source of bias in the classifier's predictions.\n",
        "\n",
        "**Overview**\n",
        "\n",
        "We will use `Fairness Indicators` to evaluate a toxicity classifier trained exclusively on the text comments in the Civil Comments dataset.\n",
        "\n",
        "**About Fairness Indicators**\n",
        "\n",
        "Fairness Indicators is a suite of tools built on top of TensorFlow Model Analysis that enable regular evaluation of fairness metrics in product pipelines.\n",
        "\n",
        "Fairness Indicators makes it easy for us to ask questions about how our model performs for different groups of users. The suite includes [TensorFlow Data Validation](https://www.tensorflow.org/tfx/data_validation/get_started), [TensorFlow Model Analysis](https://www.tensorflow.org/tfx/tutorials/model_analysis/tfma_basic), and the [What-If tool](https://pair-code.github.io/what-if-tool/).\n",
        "\n",
        "These tools help us compute common classification fairness metrics and evaluate model performance for defined groups of users, and visualize comparisons to a baseline slice. We can evaluate pipelines of all sizes, and compare the results using different thresholds and confidence levels. Fairness Indicators allows us to deep-dive into individual slices and interrogate our dataset, adjusting confidence intervals and evaluations at multiple thresholds. \n",
        "\n",
        "Fairness Indicators is packaged with [TensorFlow Data Validation](https://www.tensorflow.org/tfx/data_validation/get_started) and [What-If Tool](https://pair-code.github.io/what-if-tool/) to allow users to evaluate the distribution of datasets and probe models down to the individual datapoint with the What-If Tool.\n",
        "\n",
        "For a closer look at the Fairness Indicators suite, please check out this\n",
        "[link](https://github.com/tensorflow/fairness-indicators)."
      ]
    },
    {
      "cell_type": "markdown",
      "metadata": {
        "id": "g0PSuIW-I8iP"
      },
      "source": [
        "## Setup\n",
        "\n",
        "Let's import the necessary dependencies.\n",
        "\n",
        "First, we install Fairness Indicators. "
      ]
    },
    {
      "cell_type": "code",
      "metadata": {
        "id": "2z_xzJ40j9Q-",
        "colab": {
          "base_uri": "https://localhost:8080/"
        },
        "outputId": "f98c049d-521f-41fe-beb3-653e76fb3cc5"
      },
      "source": [
        "!pip install fairness-indicators==0.40.0"
      ],
      "execution_count": 1,
      "outputs": [
        {
          "output_type": "stream",
          "name": "stdout",
          "text": [
            "Looking in indexes: https://pypi.org/simple, https://us-python.pkg.dev/colab-wheels/public/simple/\n",
            "Collecting fairness-indicators==0.40.0\n",
            "  Downloading fairness_indicators-0.40.0-py3-none-any.whl (24 kB)\n",
            "Requirement already satisfied: tensorflow-hub<1.0.0,>=0.8.0 in /usr/local/lib/python3.9/dist-packages (from fairness-indicators==0.40.0) (0.13.0)\n",
            "Requirement already satisfied: tensorflow!=2.0.*,!=2.1.*,!=2.2.*,!=2.3.*,!=2.4.*,!=2.5.*,!=2.6.*,!=2.7.*,!=2.8.*,<3,>=1.15.5 in /usr/local/lib/python3.9/dist-packages (from fairness-indicators==0.40.0) (2.11.0)\n",
            "Requirement already satisfied: protobuf<4,>=3.13 in /usr/local/lib/python3.9/dist-packages (from fairness-indicators==0.40.0) (3.19.6)\n",
            "Collecting tensorflow-model-analysis<0.41,>=0.40\n",
            "  Downloading tensorflow_model_analysis-0.40.0-py3-none-any.whl (1.8 MB)\n",
            "\u001b[2K     \u001b[90m━━━━━━━━━━━━━━━━━━━━━━━━━━━━━━━━━━━━━━━━\u001b[0m \u001b[32m1.8/1.8 MB\u001b[0m \u001b[31m22.2 MB/s\u001b[0m eta \u001b[36m0:00:00\u001b[0m\n",
            "\u001b[?25hCollecting witwidget<2,>=1.4.4\n",
            "  Downloading witwidget-1.8.1-py3-none-any.whl (1.5 MB)\n",
            "\u001b[2K     \u001b[90m━━━━━━━━━━━━━━━━━━━━━━━━━━━━━━━━━━━━━━━━\u001b[0m \u001b[32m1.5/1.5 MB\u001b[0m \u001b[31m31.5 MB/s\u001b[0m eta \u001b[36m0:00:00\u001b[0m\n",
            "\u001b[?25hCollecting tensorflow-data-validation<1.10.0,>=1.9.0\n",
            "  Downloading tensorflow_data_validation-1.9.0-cp39-cp39-manylinux_2_12_x86_64.manylinux2010_x86_64.whl (1.5 MB)\n",
            "\u001b[2K     \u001b[90m━━━━━━━━━━━━━━━━━━━━━━━━━━━━━━━━━━━━━━━━\u001b[0m \u001b[32m1.5/1.5 MB\u001b[0m \u001b[31m40.4 MB/s\u001b[0m eta \u001b[36m0:00:00\u001b[0m\n",
            "\u001b[?25hRequirement already satisfied: gast<=0.4.0,>=0.2.1 in /usr/local/lib/python3.9/dist-packages (from tensorflow!=2.0.*,!=2.1.*,!=2.2.*,!=2.3.*,!=2.4.*,!=2.5.*,!=2.6.*,!=2.7.*,!=2.8.*,<3,>=1.15.5->fairness-indicators==0.40.0) (0.4.0)\n",
            "Requirement already satisfied: flatbuffers>=2.0 in /usr/local/lib/python3.9/dist-packages (from tensorflow!=2.0.*,!=2.1.*,!=2.2.*,!=2.3.*,!=2.4.*,!=2.5.*,!=2.6.*,!=2.7.*,!=2.8.*,<3,>=1.15.5->fairness-indicators==0.40.0) (23.3.3)\n",
            "Requirement already satisfied: absl-py>=1.0.0 in /usr/local/lib/python3.9/dist-packages (from tensorflow!=2.0.*,!=2.1.*,!=2.2.*,!=2.3.*,!=2.4.*,!=2.5.*,!=2.6.*,!=2.7.*,!=2.8.*,<3,>=1.15.5->fairness-indicators==0.40.0) (1.4.0)\n",
            "Requirement already satisfied: six>=1.12.0 in /usr/local/lib/python3.9/dist-packages (from tensorflow!=2.0.*,!=2.1.*,!=2.2.*,!=2.3.*,!=2.4.*,!=2.5.*,!=2.6.*,!=2.7.*,!=2.8.*,<3,>=1.15.5->fairness-indicators==0.40.0) (1.16.0)\n",
            "Requirement already satisfied: tensorflow-io-gcs-filesystem>=0.23.1 in /usr/local/lib/python3.9/dist-packages (from tensorflow!=2.0.*,!=2.1.*,!=2.2.*,!=2.3.*,!=2.4.*,!=2.5.*,!=2.6.*,!=2.7.*,!=2.8.*,<3,>=1.15.5->fairness-indicators==0.40.0) (0.31.0)\n",
            "Requirement already satisfied: tensorboard<2.12,>=2.11 in /usr/local/lib/python3.9/dist-packages (from tensorflow!=2.0.*,!=2.1.*,!=2.2.*,!=2.3.*,!=2.4.*,!=2.5.*,!=2.6.*,!=2.7.*,!=2.8.*,<3,>=1.15.5->fairness-indicators==0.40.0) (2.11.2)\n",
            "Requirement already satisfied: astunparse>=1.6.0 in /usr/local/lib/python3.9/dist-packages (from tensorflow!=2.0.*,!=2.1.*,!=2.2.*,!=2.3.*,!=2.4.*,!=2.5.*,!=2.6.*,!=2.7.*,!=2.8.*,<3,>=1.15.5->fairness-indicators==0.40.0) (1.6.3)\n",
            "Requirement already satisfied: keras<2.12,>=2.11.0 in /usr/local/lib/python3.9/dist-packages (from tensorflow!=2.0.*,!=2.1.*,!=2.2.*,!=2.3.*,!=2.4.*,!=2.5.*,!=2.6.*,!=2.7.*,!=2.8.*,<3,>=1.15.5->fairness-indicators==0.40.0) (2.11.0)\n",
            "Requirement already satisfied: tensorflow-estimator<2.12,>=2.11.0 in /usr/local/lib/python3.9/dist-packages (from tensorflow!=2.0.*,!=2.1.*,!=2.2.*,!=2.3.*,!=2.4.*,!=2.5.*,!=2.6.*,!=2.7.*,!=2.8.*,<3,>=1.15.5->fairness-indicators==0.40.0) (2.11.0)\n",
            "Requirement already satisfied: google-pasta>=0.1.1 in /usr/local/lib/python3.9/dist-packages (from tensorflow!=2.0.*,!=2.1.*,!=2.2.*,!=2.3.*,!=2.4.*,!=2.5.*,!=2.6.*,!=2.7.*,!=2.8.*,<3,>=1.15.5->fairness-indicators==0.40.0) (0.2.0)\n",
            "Requirement already satisfied: typing-extensions>=3.6.6 in /usr/local/lib/python3.9/dist-packages (from tensorflow!=2.0.*,!=2.1.*,!=2.2.*,!=2.3.*,!=2.4.*,!=2.5.*,!=2.6.*,!=2.7.*,!=2.8.*,<3,>=1.15.5->fairness-indicators==0.40.0) (4.5.0)\n",
            "Requirement already satisfied: grpcio<2.0,>=1.24.3 in /usr/local/lib/python3.9/dist-packages (from tensorflow!=2.0.*,!=2.1.*,!=2.2.*,!=2.3.*,!=2.4.*,!=2.5.*,!=2.6.*,!=2.7.*,!=2.8.*,<3,>=1.15.5->fairness-indicators==0.40.0) (1.51.3)\n",
            "Requirement already satisfied: termcolor>=1.1.0 in /usr/local/lib/python3.9/dist-packages (from tensorflow!=2.0.*,!=2.1.*,!=2.2.*,!=2.3.*,!=2.4.*,!=2.5.*,!=2.6.*,!=2.7.*,!=2.8.*,<3,>=1.15.5->fairness-indicators==0.40.0) (2.2.0)\n",
            "Requirement already satisfied: setuptools in /usr/local/lib/python3.9/dist-packages (from tensorflow!=2.0.*,!=2.1.*,!=2.2.*,!=2.3.*,!=2.4.*,!=2.5.*,!=2.6.*,!=2.7.*,!=2.8.*,<3,>=1.15.5->fairness-indicators==0.40.0) (67.6.0)\n",
            "Requirement already satisfied: libclang>=13.0.0 in /usr/local/lib/python3.9/dist-packages (from tensorflow!=2.0.*,!=2.1.*,!=2.2.*,!=2.3.*,!=2.4.*,!=2.5.*,!=2.6.*,!=2.7.*,!=2.8.*,<3,>=1.15.5->fairness-indicators==0.40.0) (15.0.6.1)\n",
            "Requirement already satisfied: wrapt>=1.11.0 in /usr/local/lib/python3.9/dist-packages (from tensorflow!=2.0.*,!=2.1.*,!=2.2.*,!=2.3.*,!=2.4.*,!=2.5.*,!=2.6.*,!=2.7.*,!=2.8.*,<3,>=1.15.5->fairness-indicators==0.40.0) (1.15.0)\n",
            "Requirement already satisfied: packaging in /usr/local/lib/python3.9/dist-packages (from tensorflow!=2.0.*,!=2.1.*,!=2.2.*,!=2.3.*,!=2.4.*,!=2.5.*,!=2.6.*,!=2.7.*,!=2.8.*,<3,>=1.15.5->fairness-indicators==0.40.0) (23.0)\n",
            "Requirement already satisfied: h5py>=2.9.0 in /usr/local/lib/python3.9/dist-packages (from tensorflow!=2.0.*,!=2.1.*,!=2.2.*,!=2.3.*,!=2.4.*,!=2.5.*,!=2.6.*,!=2.7.*,!=2.8.*,<3,>=1.15.5->fairness-indicators==0.40.0) (3.8.0)\n",
            "Requirement already satisfied: opt-einsum>=2.3.2 in /usr/local/lib/python3.9/dist-packages (from tensorflow!=2.0.*,!=2.1.*,!=2.2.*,!=2.3.*,!=2.4.*,!=2.5.*,!=2.6.*,!=2.7.*,!=2.8.*,<3,>=1.15.5->fairness-indicators==0.40.0) (3.3.0)\n",
            "Requirement already satisfied: numpy>=1.20 in /usr/local/lib/python3.9/dist-packages (from tensorflow!=2.0.*,!=2.1.*,!=2.2.*,!=2.3.*,!=2.4.*,!=2.5.*,!=2.6.*,!=2.7.*,!=2.8.*,<3,>=1.15.5->fairness-indicators==0.40.0) (1.22.4)\n",
            "Collecting joblib<0.15,>=0.12\n",
            "  Downloading joblib-0.14.1-py2.py3-none-any.whl (294 kB)\n",
            "\u001b[2K     \u001b[90m━━━━━━━━━━━━━━━━━━━━━━━━━━━━━━━━━━━━━━\u001b[0m \u001b[32m294.9/294.9 KB\u001b[0m \u001b[31m16.7 MB/s\u001b[0m eta \u001b[36m0:00:00\u001b[0m\n",
            "\u001b[?25hCollecting apache-beam[gcp]<3,>=2.38\n",
            "  Downloading apache_beam-2.46.0-cp39-cp39-manylinux_2_17_x86_64.manylinux2014_x86_64.whl (14.5 MB)\n",
            "\u001b[2K     \u001b[90m━━━━━━━━━━━━━━━━━━━━━━━━━━━━━━━━━━━━━━━━\u001b[0m \u001b[32m14.5/14.5 MB\u001b[0m \u001b[31m20.6 MB/s\u001b[0m eta \u001b[36m0:00:00\u001b[0m\n",
            "\u001b[?25hCollecting pyfarmhash<0.4,>=0.2\n",
            "  Downloading pyfarmhash-0.3.2.tar.gz (99 kB)\n",
            "\u001b[2K     \u001b[90m━━━━━━━━━━━━━━━━━━━━━━━━━━━━━━━━━━━━━━━━\u001b[0m \u001b[32m99.9/99.9 KB\u001b[0m \u001b[31m4.7 MB/s\u001b[0m eta \u001b[36m0:00:00\u001b[0m\n",
            "\u001b[?25h  Preparing metadata (setup.py) ... \u001b[?25l\u001b[?25hdone\n",
            "Collecting pyarrow<6,>=1\n",
            "  Downloading pyarrow-5.0.0-cp39-cp39-manylinux2014_x86_64.whl (23.7 MB)\n",
            "\u001b[2K     \u001b[90m━━━━━━━━━━━━━━━━━━━━━━━━━━━━━━━━━━━━━━━━\u001b[0m \u001b[32m23.7/23.7 MB\u001b[0m \u001b[31m15.4 MB/s\u001b[0m eta \u001b[36m0:00:00\u001b[0m\n",
            "\u001b[?25hCollecting tensorflow-metadata<1.10,>=1.9.0\n",
            "  Downloading tensorflow_metadata-1.9.0-py3-none-any.whl (51 kB)\n",
            "\u001b[2K     \u001b[90m━━━━━━━━━━━━━━━━━━━━━━━━━━━━━━━━━━━━━━━━\u001b[0m \u001b[32m51.0/51.0 KB\u001b[0m \u001b[31m3.0 MB/s\u001b[0m eta \u001b[36m0:00:00\u001b[0m\n",
            "\u001b[?25hCollecting tfx-bsl<1.10,>=1.9.0\n",
            "  Downloading tfx_bsl-1.9.0-cp39-cp39-manylinux_2_12_x86_64.manylinux2010_x86_64.whl (19.2 MB)\n",
            "\u001b[2K     \u001b[90m━━━━━━━━━━━━━━━━━━━━━━━━━━━━━━━━━━━━━━━━\u001b[0m \u001b[32m19.2/19.2 MB\u001b[0m \u001b[31m7.2 MB/s\u001b[0m eta \u001b[36m0:00:00\u001b[0m\n",
            "\u001b[?25hRequirement already satisfied: pandas<2,>=1.0 in /usr/local/lib/python3.9/dist-packages (from tensorflow-data-validation<1.10.0,>=1.9.0->fairness-indicators==0.40.0) (1.4.4)\n",
            "Requirement already satisfied: ipywidgets<8,>=7 in /usr/local/lib/python3.9/dist-packages (from tensorflow-model-analysis<0.41,>=0.40->fairness-indicators==0.40.0) (7.7.1)\n",
            "Requirement already satisfied: scipy<2,>=1.4.1 in /usr/local/lib/python3.9/dist-packages (from tensorflow-model-analysis<0.41,>=0.40->fairness-indicators==0.40.0) (1.10.1)\n",
            "Requirement already satisfied: ipython<8,>=7 in /usr/local/lib/python3.9/dist-packages (from tensorflow-model-analysis<0.41,>=0.40->fairness-indicators==0.40.0) (7.9.0)\n",
            "Requirement already satisfied: google-api-python-client>=1.7.8 in /usr/local/lib/python3.9/dist-packages (from witwidget<2,>=1.4.4->fairness-indicators==0.40.0) (2.70.0)\n",
            "Requirement already satisfied: oauth2client>=4.1.3 in /usr/local/lib/python3.9/dist-packages (from witwidget<2,>=1.4.4->fairness-indicators==0.40.0) (4.1.3)\n",
            "Requirement already satisfied: pydot<2,>=1.2.0 in /usr/local/lib/python3.9/dist-packages (from apache-beam[gcp]<3,>=2.38->tensorflow-data-validation<1.10.0,>=1.9.0->fairness-indicators==0.40.0) (1.4.2)\n",
            "Requirement already satisfied: pytz>=2018.3 in /usr/local/lib/python3.9/dist-packages (from apache-beam[gcp]<3,>=2.38->tensorflow-data-validation<1.10.0,>=1.9.0->fairness-indicators==0.40.0) (2022.7.1)\n",
            "Requirement already satisfied: httplib2<0.22.0,>=0.8 in /usr/local/lib/python3.9/dist-packages (from apache-beam[gcp]<3,>=2.38->tensorflow-data-validation<1.10.0,>=1.9.0->fairness-indicators==0.40.0) (0.21.0)\n",
            "Collecting fasteners<1.0,>=0.3\n",
            "  Downloading fasteners-0.18-py3-none-any.whl (18 kB)\n",
            "Requirement already satisfied: requests<3.0.0,>=2.24.0 in /usr/local/lib/python3.9/dist-packages (from apache-beam[gcp]<3,>=2.38->tensorflow-data-validation<1.10.0,>=1.9.0->fairness-indicators==0.40.0) (2.27.1)\n",
            "Collecting hdfs<3.0.0,>=2.1.0\n",
            "  Downloading hdfs-2.7.0-py3-none-any.whl (34 kB)\n",
            "Requirement already satisfied: python-dateutil<3,>=2.8.0 in /usr/local/lib/python3.9/dist-packages (from apache-beam[gcp]<3,>=2.38->tensorflow-data-validation<1.10.0,>=1.9.0->fairness-indicators==0.40.0) (2.8.2)\n",
            "Collecting orjson<4.0\n",
            "  Downloading orjson-3.8.8-cp39-cp39-manylinux_2_28_x86_64.whl (143 kB)\n",
            "\u001b[2K     \u001b[90m━━━━━━━━━━━━━━━━━━━━━━━━━━━━━━━━━━━━━━━\u001b[0m \u001b[32m143.5/143.5 KB\u001b[0m \u001b[31m5.0 MB/s\u001b[0m eta \u001b[36m0:00:00\u001b[0m\n",
            "\u001b[?25hCollecting objsize<0.7.0,>=0.6.1\n",
            "  Downloading objsize-0.6.1-py3-none-any.whl (9.3 kB)\n",
            "Requirement already satisfied: cloudpickle~=2.2.1 in /usr/local/lib/python3.9/dist-packages (from apache-beam[gcp]<3,>=2.38->tensorflow-data-validation<1.10.0,>=1.9.0->fairness-indicators==0.40.0) (2.2.1)\n",
            "Requirement already satisfied: regex>=2020.6.8 in /usr/local/lib/python3.9/dist-packages (from apache-beam[gcp]<3,>=2.38->tensorflow-data-validation<1.10.0,>=1.9.0->fairness-indicators==0.40.0) (2022.10.31)\n",
            "Collecting pymongo<4.0.0,>=3.8.0\n",
            "  Downloading pymongo-3.13.0-cp39-cp39-manylinux_2_17_x86_64.manylinux2014_x86_64.whl (515 kB)\n",
            "\u001b[2K     \u001b[90m━━━━━━━━━━━━━━━━━━━━━━━━━━━━━━━━━━━━━━\u001b[0m \u001b[32m515.5/515.5 KB\u001b[0m \u001b[31m16.4 MB/s\u001b[0m eta \u001b[36m0:00:00\u001b[0m\n",
            "\u001b[?25hCollecting zstandard<1,>=0.18.0\n",
            "  Downloading zstandard-0.20.0-cp39-cp39-manylinux_2_17_x86_64.manylinux2014_x86_64.whl (2.6 MB)\n",
            "\u001b[2K     \u001b[90m━━━━━━━━━━━━━━━━━━━━━━━━━━━━━━━━━━━━━━━━\u001b[0m \u001b[32m2.6/2.6 MB\u001b[0m \u001b[31m17.2 MB/s\u001b[0m eta \u001b[36m0:00:00\u001b[0m\n",
            "\u001b[?25hCollecting dill<0.3.2,>=0.3.1.1\n",
            "  Downloading dill-0.3.1.1.tar.gz (151 kB)\n",
            "\u001b[2K     \u001b[90m━━━━━━━━━━━━━━━━━━━━━━━━━━━━━━━━━━━━━━━\u001b[0m \u001b[32m152.0/152.0 KB\u001b[0m \u001b[31m7.2 MB/s\u001b[0m eta \u001b[36m0:00:00\u001b[0m\n",
            "\u001b[?25h  Preparing metadata (setup.py) ... \u001b[?25l\u001b[?25hdone\n",
            "Requirement already satisfied: proto-plus<2,>=1.7.1 in /usr/local/lib/python3.9/dist-packages (from apache-beam[gcp]<3,>=2.38->tensorflow-data-validation<1.10.0,>=1.9.0->fairness-indicators==0.40.0) (1.22.2)\n",
            "Collecting fastavro<2,>=0.23.6\n",
            "  Downloading fastavro-1.7.3-cp39-cp39-manylinux_2_17_x86_64.manylinux2014_x86_64.whl (2.7 MB)\n",
            "\u001b[2K     \u001b[90m━━━━━━━━━━━━━━━━━━━━━━━━━━━━━━━━━━━━━━━━\u001b[0m \u001b[32m2.7/2.7 MB\u001b[0m \u001b[31m28.1 MB/s\u001b[0m eta \u001b[36m0:00:00\u001b[0m\n",
            "\u001b[?25hCollecting crcmod<2.0,>=1.7\n",
            "  Downloading crcmod-1.7.tar.gz (89 kB)\n",
            "\u001b[2K     \u001b[90m━━━━━━━━━━━━━━━━━━━━━━━━━━━━━━━━━━━━━━━━\u001b[0m \u001b[32m89.7/89.7 KB\u001b[0m \u001b[31m4.5 MB/s\u001b[0m eta \u001b[36m0:00:00\u001b[0m\n",
            "\u001b[?25h  Preparing metadata (setup.py) ... \u001b[?25l\u001b[?25hdone\n",
            "Collecting google-cloud-bigtable<2,>=0.31.1\n",
            "  Downloading google_cloud_bigtable-1.7.3-py2.py3-none-any.whl (268 kB)\n",
            "\u001b[2K     \u001b[90m━━━━━━━━━━━━━━━━━━━━━━━━━━━━━━━━━━━━━━━\u001b[0m \u001b[32m268.7/268.7 KB\u001b[0m \u001b[31m3.6 MB/s\u001b[0m eta \u001b[36m0:00:00\u001b[0m\n",
            "\u001b[?25hRequirement already satisfied: google-cloud-core<3,>=0.28.1 in /usr/local/lib/python3.9/dist-packages (from apache-beam[gcp]<3,>=2.38->tensorflow-data-validation<1.10.0,>=1.9.0->fairness-indicators==0.40.0) (2.3.2)\n",
            "Collecting google-cloud-spanner<4,>=3.0.0\n",
            "  Downloading google_cloud_spanner-3.29.0-py2.py3-none-any.whl (327 kB)\n",
            "\u001b[2K     \u001b[90m━━━━━━━━━━━━━━━━━━━━━━━━━━━━━━━━━━━━━━\u001b[0m \u001b[32m327.3/327.3 KB\u001b[0m \u001b[31m12.3 MB/s\u001b[0m eta \u001b[36m0:00:00\u001b[0m\n",
            "\u001b[?25hRequirement already satisfied: google-auth<3,>=1.18.0 in /usr/local/lib/python3.9/dist-packages (from apache-beam[gcp]<3,>=2.38->tensorflow-data-validation<1.10.0,>=1.9.0->fairness-indicators==0.40.0) (2.16.2)\n",
            "Collecting google-cloud-pubsub<3,>=2.1.0\n",
            "  Downloading google_cloud_pubsub-2.15.2-py2.py3-none-any.whl (243 kB)\n",
            "\u001b[2K     \u001b[90m━━━━━━━━━━━━━━━━━━━━━━━━━━━━━━━━━━━━━━\u001b[0m \u001b[32m243.1/243.1 KB\u001b[0m \u001b[31m12.7 MB/s\u001b[0m eta \u001b[36m0:00:00\u001b[0m\n",
            "\u001b[?25hCollecting google-cloud-recommendations-ai<0.8.0,>=0.1.0\n",
            "  Downloading google_cloud_recommendations_ai-0.7.1-py2.py3-none-any.whl (148 kB)\n",
            "\u001b[2K     \u001b[90m━━━━━━━━━━━━━━━━━━━━━━━━━━━━━━━━━━━━━━━\u001b[0m \u001b[32m148.2/148.2 KB\u001b[0m \u001b[31m3.2 MB/s\u001b[0m eta \u001b[36m0:00:00\u001b[0m\n",
            "\u001b[?25hCollecting google-cloud-language<2,>=1.3.0\n",
            "  Downloading google_cloud_language-1.3.2-py2.py3-none-any.whl (83 kB)\n",
            "\u001b[2K     \u001b[90m━━━━━━━━━━━━━━━━━━━━━━━━━━━━━━━━━━━━━━━━\u001b[0m \u001b[32m83.6/83.6 KB\u001b[0m \u001b[31m2.8 MB/s\u001b[0m eta \u001b[36m0:00:00\u001b[0m\n",
            "\u001b[?25hRequirement already satisfied: google-cloud-bigquery<4,>=1.6.0 in /usr/local/lib/python3.9/dist-packages (from apache-beam[gcp]<3,>=2.38->tensorflow-data-validation<1.10.0,>=1.9.0->fairness-indicators==0.40.0) (3.4.2)\n",
            "Collecting google-cloud-videointelligence<2,>=1.8.0\n",
            "  Downloading google_cloud_videointelligence-1.16.3-py2.py3-none-any.whl (183 kB)\n",
            "\u001b[2K     \u001b[90m━━━━━━━━━━━━━━━━━━━━━━━━━━━━━━━━━━━━━━\u001b[0m \u001b[32m183.9/183.9 KB\u001b[0m \u001b[31m13.0 MB/s\u001b[0m eta \u001b[36m0:00:00\u001b[0m\n",
            "\u001b[?25hCollecting cachetools<5,>=3.1.0\n",
            "  Downloading cachetools-4.2.4-py3-none-any.whl (10 kB)\n",
            "Collecting google-cloud-dlp<4,>=3.0.0\n",
            "  Downloading google_cloud_dlp-3.12.1-py2.py3-none-any.whl (143 kB)\n",
            "\u001b[2K     \u001b[90m━━━━━━━━━━━━━━━━━━━━━━━━━━━━━━━━━━━━━━━\u001b[0m \u001b[32m143.4/143.4 KB\u001b[0m \u001b[31m8.6 MB/s\u001b[0m eta \u001b[36m0:00:00\u001b[0m\n",
            "\u001b[?25hRequirement already satisfied: google-auth-httplib2<0.2.0,>=0.1.0 in /usr/local/lib/python3.9/dist-packages (from apache-beam[gcp]<3,>=2.38->tensorflow-data-validation<1.10.0,>=1.9.0->fairness-indicators==0.40.0) (0.1.0)\n",
            "Collecting google-apitools<0.5.32,>=0.5.31\n",
            "  Downloading google-apitools-0.5.31.tar.gz (173 kB)\n",
            "\u001b[2K     \u001b[90m━━━━━━━━━━━━━━━━━━━━━━━━━━━━━━━━━━━━━━━\u001b[0m \u001b[32m173.5/173.5 KB\u001b[0m \u001b[31m4.3 MB/s\u001b[0m eta \u001b[36m0:00:00\u001b[0m\n",
            "\u001b[?25h  Preparing metadata (setup.py) ... \u001b[?25l\u001b[?25hdone\n",
            "Collecting google-cloud-vision<4,>=2\n",
            "  Downloading google_cloud_vision-3.4.1-py2.py3-none-any.whl (444 kB)\n",
            "\u001b[2K     \u001b[90m━━━━━━━━━━━━━━━━━━━━━━━━━━━━━━━━━━━━━━━\u001b[0m \u001b[32m444.3/444.3 KB\u001b[0m \u001b[31m8.9 MB/s\u001b[0m eta \u001b[36m0:00:00\u001b[0m\n",
            "\u001b[?25hCollecting google-cloud-pubsublite<2,>=1.2.0\n",
            "  Downloading google_cloud_pubsublite-1.8.1-py2.py3-none-any.whl (288 kB)\n",
            "\u001b[2K     \u001b[90m━━━━━━━━━━━━━━━━━━━━━━━━━━━━━━━━━━━━━━\u001b[0m \u001b[32m288.1/288.1 KB\u001b[0m \u001b[31m15.4 MB/s\u001b[0m eta \u001b[36m0:00:00\u001b[0m\n",
            "\u001b[?25hCollecting google-cloud-datastore<2,>=1.8.0\n",
            "  Downloading google_cloud_datastore-1.15.5-py2.py3-none-any.whl (134 kB)\n",
            "\u001b[2K     \u001b[90m━━━━━━━━━━━━━━━━━━━━━━━━━━━━━━━━━━━━━━━\u001b[0m \u001b[32m134.2/134.2 KB\u001b[0m \u001b[31m4.9 MB/s\u001b[0m eta \u001b[36m0:00:00\u001b[0m\n",
            "\u001b[?25hCollecting google-cloud-bigquery-storage<2.17,>=2.6.3\n",
            "  Downloading google_cloud_bigquery_storage-2.16.2-py2.py3-none-any.whl (185 kB)\n",
            "\u001b[2K     \u001b[90m━━━━━━━━━━━━━━━━━━━━━━━━━━━━━━━━━━━━━━━\u001b[0m \u001b[32m185.4/185.4 KB\u001b[0m \u001b[31m7.9 MB/s\u001b[0m eta \u001b[36m0:00:00\u001b[0m\n",
            "\u001b[?25hRequirement already satisfied: wheel<1.0,>=0.23.0 in /usr/local/lib/python3.9/dist-packages (from astunparse>=1.6.0->tensorflow!=2.0.*,!=2.1.*,!=2.2.*,!=2.3.*,!=2.4.*,!=2.5.*,!=2.6.*,!=2.7.*,!=2.8.*,<3,>=1.15.5->fairness-indicators==0.40.0) (0.40.0)\n",
            "Requirement already satisfied: google-api-core!=2.0.*,!=2.1.*,!=2.2.*,!=2.3.0,<3.0.0dev,>=1.31.5 in /usr/local/lib/python3.9/dist-packages (from google-api-python-client>=1.7.8->witwidget<2,>=1.4.4->fairness-indicators==0.40.0) (2.11.0)\n",
            "Requirement already satisfied: uritemplate<5,>=3.0.1 in /usr/local/lib/python3.9/dist-packages (from google-api-python-client>=1.7.8->witwidget<2,>=1.4.4->fairness-indicators==0.40.0) (4.1.1)\n",
            "Requirement already satisfied: prompt-toolkit<2.1.0,>=2.0.0 in /usr/local/lib/python3.9/dist-packages (from ipython<8,>=7->tensorflow-model-analysis<0.41,>=0.40->fairness-indicators==0.40.0) (2.0.10)\n",
            "Requirement already satisfied: pygments in /usr/local/lib/python3.9/dist-packages (from ipython<8,>=7->tensorflow-model-analysis<0.41,>=0.40->fairness-indicators==0.40.0) (2.14.0)\n",
            "Requirement already satisfied: pexpect in /usr/local/lib/python3.9/dist-packages (from ipython<8,>=7->tensorflow-model-analysis<0.41,>=0.40->fairness-indicators==0.40.0) (4.8.0)\n",
            "Requirement already satisfied: pickleshare in /usr/local/lib/python3.9/dist-packages (from ipython<8,>=7->tensorflow-model-analysis<0.41,>=0.40->fairness-indicators==0.40.0) (0.7.5)\n",
            "Requirement already satisfied: backcall in /usr/local/lib/python3.9/dist-packages (from ipython<8,>=7->tensorflow-model-analysis<0.41,>=0.40->fairness-indicators==0.40.0) (0.2.0)\n",
            "Requirement already satisfied: traitlets>=4.2 in /usr/local/lib/python3.9/dist-packages (from ipython<8,>=7->tensorflow-model-analysis<0.41,>=0.40->fairness-indicators==0.40.0) (5.7.1)\n",
            "Collecting jedi>=0.10\n",
            "  Downloading jedi-0.18.2-py2.py3-none-any.whl (1.6 MB)\n",
            "\u001b[2K     \u001b[90m━━━━━━━━━━━━━━━━━━━━━━━━━━━━━━━━━━━━━━━━\u001b[0m \u001b[32m1.6/1.6 MB\u001b[0m \u001b[31m41.7 MB/s\u001b[0m eta \u001b[36m0:00:00\u001b[0m\n",
            "\u001b[?25hRequirement already satisfied: decorator in /usr/local/lib/python3.9/dist-packages (from ipython<8,>=7->tensorflow-model-analysis<0.41,>=0.40->fairness-indicators==0.40.0) (4.4.2)\n",
            "Requirement already satisfied: jupyterlab-widgets>=1.0.0 in /usr/local/lib/python3.9/dist-packages (from ipywidgets<8,>=7->tensorflow-model-analysis<0.41,>=0.40->fairness-indicators==0.40.0) (3.0.6)\n",
            "Requirement already satisfied: ipython-genutils~=0.2.0 in /usr/local/lib/python3.9/dist-packages (from ipywidgets<8,>=7->tensorflow-model-analysis<0.41,>=0.40->fairness-indicators==0.40.0) (0.2.0)\n",
            "Requirement already satisfied: ipykernel>=4.5.1 in /usr/local/lib/python3.9/dist-packages (from ipywidgets<8,>=7->tensorflow-model-analysis<0.41,>=0.40->fairness-indicators==0.40.0) (5.3.4)\n",
            "Requirement already satisfied: widgetsnbextension~=3.6.0 in /usr/local/lib/python3.9/dist-packages (from ipywidgets<8,>=7->tensorflow-model-analysis<0.41,>=0.40->fairness-indicators==0.40.0) (3.6.3)\n",
            "Requirement already satisfied: pyasn1-modules>=0.0.5 in /usr/local/lib/python3.9/dist-packages (from oauth2client>=4.1.3->witwidget<2,>=1.4.4->fairness-indicators==0.40.0) (0.2.8)\n",
            "Requirement already satisfied: rsa>=3.1.4 in /usr/local/lib/python3.9/dist-packages (from oauth2client>=4.1.3->witwidget<2,>=1.4.4->fairness-indicators==0.40.0) (4.9)\n",
            "Requirement already satisfied: pyasn1>=0.1.7 in /usr/local/lib/python3.9/dist-packages (from oauth2client>=4.1.3->witwidget<2,>=1.4.4->fairness-indicators==0.40.0) (0.4.8)\n",
            "Requirement already satisfied: tensorboard-data-server<0.7.0,>=0.6.0 in /usr/local/lib/python3.9/dist-packages (from tensorboard<2.12,>=2.11->tensorflow!=2.0.*,!=2.1.*,!=2.2.*,!=2.3.*,!=2.4.*,!=2.5.*,!=2.6.*,!=2.7.*,!=2.8.*,<3,>=1.15.5->fairness-indicators==0.40.0) (0.6.1)\n",
            "Requirement already satisfied: google-auth-oauthlib<0.5,>=0.4.1 in /usr/local/lib/python3.9/dist-packages (from tensorboard<2.12,>=2.11->tensorflow!=2.0.*,!=2.1.*,!=2.2.*,!=2.3.*,!=2.4.*,!=2.5.*,!=2.6.*,!=2.7.*,!=2.8.*,<3,>=1.15.5->fairness-indicators==0.40.0) (0.4.6)\n",
            "Requirement already satisfied: markdown>=2.6.8 in /usr/local/lib/python3.9/dist-packages (from tensorboard<2.12,>=2.11->tensorflow!=2.0.*,!=2.1.*,!=2.2.*,!=2.3.*,!=2.4.*,!=2.5.*,!=2.6.*,!=2.7.*,!=2.8.*,<3,>=1.15.5->fairness-indicators==0.40.0) (3.4.3)\n",
            "Requirement already satisfied: werkzeug>=1.0.1 in /usr/local/lib/python3.9/dist-packages (from tensorboard<2.12,>=2.11->tensorflow!=2.0.*,!=2.1.*,!=2.2.*,!=2.3.*,!=2.4.*,!=2.5.*,!=2.6.*,!=2.7.*,!=2.8.*,<3,>=1.15.5->fairness-indicators==0.40.0) (2.2.3)\n",
            "Requirement already satisfied: tensorboard-plugin-wit>=1.6.0 in /usr/local/lib/python3.9/dist-packages (from tensorboard<2.12,>=2.11->tensorflow!=2.0.*,!=2.1.*,!=2.2.*,!=2.3.*,!=2.4.*,!=2.5.*,!=2.6.*,!=2.7.*,!=2.8.*,<3,>=1.15.5->fairness-indicators==0.40.0) (1.8.1)\n",
            "Requirement already satisfied: googleapis-common-protos<2,>=1.52.0 in /usr/local/lib/python3.9/dist-packages (from tensorflow-metadata<1.10,>=1.9.0->tensorflow-data-validation<1.10.0,>=1.9.0->fairness-indicators==0.40.0) (1.59.0)\n",
            "Collecting google-api-python-client>=1.7.8\n",
            "  Downloading google_api_python_client-1.12.11-py2.py3-none-any.whl (62 kB)\n",
            "\u001b[2K     \u001b[90m━━━━━━━━━━━━━━━━━━━━━━━━━━━━━━━━━━━━━━━━\u001b[0m \u001b[32m62.1/62.1 KB\u001b[0m \u001b[31m6.8 MB/s\u001b[0m eta \u001b[36m0:00:00\u001b[0m\n",
            "\u001b[?25hCollecting tensorflow-serving-api!=2.0.*,!=2.1.*,!=2.2.*,!=2.3.*,!=2.4.*,!=2.5.*,!=2.6.*,!=2.7.*,!=2.8.*,<3,>=1.15\n",
            "  Downloading tensorflow_serving_api-2.11.1-py2.py3-none-any.whl (37 kB)\n",
            "Collecting uritemplate<5,>=3.0.1\n",
            "  Downloading uritemplate-3.0.1-py2.py3-none-any.whl (15 kB)\n",
            "Requirement already satisfied: requests-oauthlib>=0.7.0 in /usr/local/lib/python3.9/dist-packages (from google-auth-oauthlib<0.5,>=0.4.1->tensorboard<2.12,>=2.11->tensorflow!=2.0.*,!=2.1.*,!=2.2.*,!=2.3.*,!=2.4.*,!=2.5.*,!=2.6.*,!=2.7.*,!=2.8.*,<3,>=1.15.5->fairness-indicators==0.40.0) (1.3.1)\n",
            "Requirement already satisfied: google-resumable-media<3.0dev,>=0.6.0 in /usr/local/lib/python3.9/dist-packages (from google-cloud-bigquery<4,>=1.6.0->apache-beam[gcp]<3,>=2.38->tensorflow-data-validation<1.10.0,>=1.9.0->fairness-indicators==0.40.0) (2.4.1)\n",
            "Collecting grpc-google-iam-v1<0.13dev,>=0.12.3\n",
            "  Downloading grpc_google_iam_v1-0.12.6-py2.py3-none-any.whl (26 kB)\n",
            "Requirement already satisfied: grpcio-status>=1.33.2 in /usr/local/lib/python3.9/dist-packages (from google-cloud-pubsub<3,>=2.1.0->apache-beam[gcp]<3,>=2.38->tensorflow-data-validation<1.10.0,>=1.9.0->fairness-indicators==0.40.0) (1.48.2)\n",
            "Collecting overrides<7.0.0,>=6.0.1\n",
            "  Downloading overrides-6.5.0-py3-none-any.whl (17 kB)\n",
            "Requirement already satisfied: sqlparse>=0.3.0 in /usr/local/lib/python3.9/dist-packages (from google-cloud-spanner<4,>=3.0.0->apache-beam[gcp]<3,>=2.38->tensorflow-data-validation<1.10.0,>=1.9.0->fairness-indicators==0.40.0) (0.4.3)\n",
            "Collecting docopt\n",
            "  Downloading docopt-0.6.2.tar.gz (25 kB)\n",
            "  Preparing metadata (setup.py) ... \u001b[?25l\u001b[?25hdone\n",
            "Requirement already satisfied: pyparsing!=3.0.0,!=3.0.1,!=3.0.2,!=3.0.3,<4,>=2.4.2 in /usr/local/lib/python3.9/dist-packages (from httplib2<0.22.0,>=0.8->apache-beam[gcp]<3,>=2.38->tensorflow-data-validation<1.10.0,>=1.9.0->fairness-indicators==0.40.0) (3.0.9)\n",
            "Requirement already satisfied: jupyter-client in /usr/local/lib/python3.9/dist-packages (from ipykernel>=4.5.1->ipywidgets<8,>=7->tensorflow-model-analysis<0.41,>=0.40->fairness-indicators==0.40.0) (6.1.12)\n",
            "Requirement already satisfied: tornado>=4.2 in /usr/local/lib/python3.9/dist-packages (from ipykernel>=4.5.1->ipywidgets<8,>=7->tensorflow-model-analysis<0.41,>=0.40->fairness-indicators==0.40.0) (6.2)\n",
            "Requirement already satisfied: parso<0.9.0,>=0.8.0 in /usr/local/lib/python3.9/dist-packages (from jedi>=0.10->ipython<8,>=7->tensorflow-model-analysis<0.41,>=0.40->fairness-indicators==0.40.0) (0.8.3)\n",
            "Requirement already satisfied: importlib-metadata>=4.4 in /usr/local/lib/python3.9/dist-packages (from markdown>=2.6.8->tensorboard<2.12,>=2.11->tensorflow!=2.0.*,!=2.1.*,!=2.2.*,!=2.3.*,!=2.4.*,!=2.5.*,!=2.6.*,!=2.7.*,!=2.8.*,<3,>=1.15.5->fairness-indicators==0.40.0) (6.1.0)\n",
            "Requirement already satisfied: wcwidth in /usr/local/lib/python3.9/dist-packages (from prompt-toolkit<2.1.0,>=2.0.0->ipython<8,>=7->tensorflow-model-analysis<0.41,>=0.40->fairness-indicators==0.40.0) (0.2.6)\n",
            "Requirement already satisfied: charset-normalizer~=2.0.0 in /usr/local/lib/python3.9/dist-packages (from requests<3.0.0,>=2.24.0->apache-beam[gcp]<3,>=2.38->tensorflow-data-validation<1.10.0,>=1.9.0->fairness-indicators==0.40.0) (2.0.12)\n",
            "Requirement already satisfied: idna<4,>=2.5 in /usr/local/lib/python3.9/dist-packages (from requests<3.0.0,>=2.24.0->apache-beam[gcp]<3,>=2.38->tensorflow-data-validation<1.10.0,>=1.9.0->fairness-indicators==0.40.0) (3.4)\n",
            "Requirement already satisfied: certifi>=2017.4.17 in /usr/local/lib/python3.9/dist-packages (from requests<3.0.0,>=2.24.0->apache-beam[gcp]<3,>=2.38->tensorflow-data-validation<1.10.0,>=1.9.0->fairness-indicators==0.40.0) (2022.12.7)\n",
            "Requirement already satisfied: urllib3<1.27,>=1.21.1 in /usr/local/lib/python3.9/dist-packages (from requests<3.0.0,>=2.24.0->apache-beam[gcp]<3,>=2.38->tensorflow-data-validation<1.10.0,>=1.9.0->fairness-indicators==0.40.0) (1.26.15)\n",
            "Collecting tensorflow!=2.0.*,!=2.1.*,!=2.2.*,!=2.3.*,!=2.4.*,!=2.5.*,!=2.6.*,!=2.7.*,!=2.8.*,<3,>=1.15.5\n",
            "  Downloading tensorflow-2.12.0-cp39-cp39-manylinux_2_17_x86_64.manylinux2014_x86_64.whl (585.9 MB)\n",
            "\u001b[2K     \u001b[90m━━━━━━━━━━━━━━━━━━━━━━━━━━━━━━━━━━━━━━━\u001b[0m \u001b[32m585.9/585.9 MB\u001b[0m \u001b[31m2.7 MB/s\u001b[0m eta \u001b[36m0:00:00\u001b[0m\n",
            "\u001b[?25hCollecting wrapt>=1.11.0\n",
            "  Downloading wrapt-1.14.1-cp39-cp39-manylinux_2_5_x86_64.manylinux1_x86_64.manylinux_2_17_x86_64.manylinux2014_x86_64.whl (77 kB)\n",
            "\u001b[2K     \u001b[90m━━━━━━━━━━━━━━━━━━━━━━━━━━━━━━━━━━━━━━━━\u001b[0m \u001b[32m77.8/77.8 KB\u001b[0m \u001b[31m8.8 MB/s\u001b[0m eta \u001b[36m0:00:00\u001b[0m\n",
            "\u001b[?25hCollecting tensorflow!=2.0.*,!=2.1.*,!=2.2.*,!=2.3.*,!=2.4.*,!=2.5.*,!=2.6.*,!=2.7.*,!=2.8.*,<3,>=1.15.5\n",
            "  Downloading tensorflow-2.11.1-cp39-cp39-manylinux_2_17_x86_64.manylinux2014_x86_64.whl (588.3 MB)\n",
            "\u001b[2K     \u001b[90m━━━━━━━━━━━━━━━━━━━━━━━━━━━━━━━━━━━━━━━\u001b[0m \u001b[32m588.3/588.3 MB\u001b[0m \u001b[31m2.8 MB/s\u001b[0m eta \u001b[36m0:00:00\u001b[0m\n",
            "\u001b[?25hRequirement already satisfied: MarkupSafe>=2.1.1 in /usr/local/lib/python3.9/dist-packages (from werkzeug>=1.0.1->tensorboard<2.12,>=2.11->tensorflow!=2.0.*,!=2.1.*,!=2.2.*,!=2.3.*,!=2.4.*,!=2.5.*,!=2.6.*,!=2.7.*,!=2.8.*,<3,>=1.15.5->fairness-indicators==0.40.0) (2.1.2)\n",
            "Requirement already satisfied: notebook>=4.4.1 in /usr/local/lib/python3.9/dist-packages (from widgetsnbextension~=3.6.0->ipywidgets<8,>=7->tensorflow-model-analysis<0.41,>=0.40->fairness-indicators==0.40.0) (6.3.0)\n",
            "Requirement already satisfied: ptyprocess>=0.5 in /usr/local/lib/python3.9/dist-packages (from pexpect->ipython<8,>=7->tensorflow-model-analysis<0.41,>=0.40->fairness-indicators==0.40.0) (0.7.0)\n",
            "Requirement already satisfied: google-crc32c<2.0dev,>=1.0 in /usr/local/lib/python3.9/dist-packages (from google-resumable-media<3.0dev,>=0.6.0->google-cloud-bigquery<4,>=1.6.0->apache-beam[gcp]<3,>=2.38->tensorflow-data-validation<1.10.0,>=1.9.0->fairness-indicators==0.40.0) (1.5.0)\n",
            "Requirement already satisfied: zipp>=0.5 in /usr/local/lib/python3.9/dist-packages (from importlib-metadata>=4.4->markdown>=2.6.8->tensorboard<2.12,>=2.11->tensorflow!=2.0.*,!=2.1.*,!=2.2.*,!=2.3.*,!=2.4.*,!=2.5.*,!=2.6.*,!=2.7.*,!=2.8.*,<3,>=1.15.5->fairness-indicators==0.40.0) (3.15.0)\n",
            "Requirement already satisfied: jinja2 in /usr/local/lib/python3.9/dist-packages (from notebook>=4.4.1->widgetsnbextension~=3.6.0->ipywidgets<8,>=7->tensorflow-model-analysis<0.41,>=0.40->fairness-indicators==0.40.0) (3.1.2)\n",
            "Requirement already satisfied: nbformat in /usr/local/lib/python3.9/dist-packages (from notebook>=4.4.1->widgetsnbextension~=3.6.0->ipywidgets<8,>=7->tensorflow-model-analysis<0.41,>=0.40->fairness-indicators==0.40.0) (5.8.0)\n",
            "Requirement already satisfied: nbconvert in /usr/local/lib/python3.9/dist-packages (from notebook>=4.4.1->widgetsnbextension~=3.6.0->ipywidgets<8,>=7->tensorflow-model-analysis<0.41,>=0.40->fairness-indicators==0.40.0) (6.5.4)\n",
            "Requirement already satisfied: argon2-cffi in /usr/local/lib/python3.9/dist-packages (from notebook>=4.4.1->widgetsnbextension~=3.6.0->ipywidgets<8,>=7->tensorflow-model-analysis<0.41,>=0.40->fairness-indicators==0.40.0) (21.3.0)\n",
            "Requirement already satisfied: jupyter-core>=4.6.1 in /usr/local/lib/python3.9/dist-packages (from notebook>=4.4.1->widgetsnbextension~=3.6.0->ipywidgets<8,>=7->tensorflow-model-analysis<0.41,>=0.40->fairness-indicators==0.40.0) (5.3.0)\n",
            "Requirement already satisfied: prometheus-client in /usr/local/lib/python3.9/dist-packages (from notebook>=4.4.1->widgetsnbextension~=3.6.0->ipywidgets<8,>=7->tensorflow-model-analysis<0.41,>=0.40->fairness-indicators==0.40.0) (0.16.0)\n",
            "Requirement already satisfied: pyzmq>=17 in /usr/local/lib/python3.9/dist-packages (from notebook>=4.4.1->widgetsnbextension~=3.6.0->ipywidgets<8,>=7->tensorflow-model-analysis<0.41,>=0.40->fairness-indicators==0.40.0) (23.2.1)\n",
            "Requirement already satisfied: Send2Trash>=1.5.0 in /usr/local/lib/python3.9/dist-packages (from notebook>=4.4.1->widgetsnbextension~=3.6.0->ipywidgets<8,>=7->tensorflow-model-analysis<0.41,>=0.40->fairness-indicators==0.40.0) (1.8.0)\n",
            "Requirement already satisfied: terminado>=0.8.3 in /usr/local/lib/python3.9/dist-packages (from notebook>=4.4.1->widgetsnbextension~=3.6.0->ipywidgets<8,>=7->tensorflow-model-analysis<0.41,>=0.40->fairness-indicators==0.40.0) (0.17.1)\n",
            "Requirement already satisfied: oauthlib>=3.0.0 in /usr/local/lib/python3.9/dist-packages (from requests-oauthlib>=0.7.0->google-auth-oauthlib<0.5,>=0.4.1->tensorboard<2.12,>=2.11->tensorflow!=2.0.*,!=2.1.*,!=2.2.*,!=2.3.*,!=2.4.*,!=2.5.*,!=2.6.*,!=2.7.*,!=2.8.*,<3,>=1.15.5->fairness-indicators==0.40.0) (3.2.2)\n",
            "Requirement already satisfied: platformdirs>=2.5 in /usr/local/lib/python3.9/dist-packages (from jupyter-core>=4.6.1->notebook>=4.4.1->widgetsnbextension~=3.6.0->ipywidgets<8,>=7->tensorflow-model-analysis<0.41,>=0.40->fairness-indicators==0.40.0) (3.1.1)\n",
            "Requirement already satisfied: argon2-cffi-bindings in /usr/local/lib/python3.9/dist-packages (from argon2-cffi->notebook>=4.4.1->widgetsnbextension~=3.6.0->ipywidgets<8,>=7->tensorflow-model-analysis<0.41,>=0.40->fairness-indicators==0.40.0) (21.2.0)\n",
            "Requirement already satisfied: tinycss2 in /usr/local/lib/python3.9/dist-packages (from nbconvert->notebook>=4.4.1->widgetsnbextension~=3.6.0->ipywidgets<8,>=7->tensorflow-model-analysis<0.41,>=0.40->fairness-indicators==0.40.0) (1.2.1)\n",
            "Requirement already satisfied: beautifulsoup4 in /usr/local/lib/python3.9/dist-packages (from nbconvert->notebook>=4.4.1->widgetsnbextension~=3.6.0->ipywidgets<8,>=7->tensorflow-model-analysis<0.41,>=0.40->fairness-indicators==0.40.0) (4.11.2)\n",
            "Requirement already satisfied: pandocfilters>=1.4.1 in /usr/local/lib/python3.9/dist-packages (from nbconvert->notebook>=4.4.1->widgetsnbextension~=3.6.0->ipywidgets<8,>=7->tensorflow-model-analysis<0.41,>=0.40->fairness-indicators==0.40.0) (1.5.0)\n",
            "Requirement already satisfied: entrypoints>=0.2.2 in /usr/local/lib/python3.9/dist-packages (from nbconvert->notebook>=4.4.1->widgetsnbextension~=3.6.0->ipywidgets<8,>=7->tensorflow-model-analysis<0.41,>=0.40->fairness-indicators==0.40.0) (0.4)\n",
            "Requirement already satisfied: bleach in /usr/local/lib/python3.9/dist-packages (from nbconvert->notebook>=4.4.1->widgetsnbextension~=3.6.0->ipywidgets<8,>=7->tensorflow-model-analysis<0.41,>=0.40->fairness-indicators==0.40.0) (6.0.0)\n",
            "Requirement already satisfied: jupyterlab-pygments in /usr/local/lib/python3.9/dist-packages (from nbconvert->notebook>=4.4.1->widgetsnbextension~=3.6.0->ipywidgets<8,>=7->tensorflow-model-analysis<0.41,>=0.40->fairness-indicators==0.40.0) (0.2.2)\n",
            "Requirement already satisfied: nbclient>=0.5.0 in /usr/local/lib/python3.9/dist-packages (from nbconvert->notebook>=4.4.1->widgetsnbextension~=3.6.0->ipywidgets<8,>=7->tensorflow-model-analysis<0.41,>=0.40->fairness-indicators==0.40.0) (0.7.2)\n",
            "Requirement already satisfied: mistune<2,>=0.8.1 in /usr/local/lib/python3.9/dist-packages (from nbconvert->notebook>=4.4.1->widgetsnbextension~=3.6.0->ipywidgets<8,>=7->tensorflow-model-analysis<0.41,>=0.40->fairness-indicators==0.40.0) (0.8.4)\n",
            "Requirement already satisfied: lxml in /usr/local/lib/python3.9/dist-packages (from nbconvert->notebook>=4.4.1->widgetsnbextension~=3.6.0->ipywidgets<8,>=7->tensorflow-model-analysis<0.41,>=0.40->fairness-indicators==0.40.0) (4.9.2)\n",
            "Requirement already satisfied: defusedxml in /usr/local/lib/python3.9/dist-packages (from nbconvert->notebook>=4.4.1->widgetsnbextension~=3.6.0->ipywidgets<8,>=7->tensorflow-model-analysis<0.41,>=0.40->fairness-indicators==0.40.0) (0.7.1)\n",
            "Requirement already satisfied: jsonschema>=2.6 in /usr/local/lib/python3.9/dist-packages (from nbformat->notebook>=4.4.1->widgetsnbextension~=3.6.0->ipywidgets<8,>=7->tensorflow-model-analysis<0.41,>=0.40->fairness-indicators==0.40.0) (4.3.3)\n",
            "Requirement already satisfied: fastjsonschema in /usr/local/lib/python3.9/dist-packages (from nbformat->notebook>=4.4.1->widgetsnbextension~=3.6.0->ipywidgets<8,>=7->tensorflow-model-analysis<0.41,>=0.40->fairness-indicators==0.40.0) (2.16.3)\n",
            "Requirement already satisfied: pyrsistent!=0.17.0,!=0.17.1,!=0.17.2,>=0.14.0 in /usr/local/lib/python3.9/dist-packages (from jsonschema>=2.6->nbformat->notebook>=4.4.1->widgetsnbextension~=3.6.0->ipywidgets<8,>=7->tensorflow-model-analysis<0.41,>=0.40->fairness-indicators==0.40.0) (0.19.3)\n",
            "Requirement already satisfied: attrs>=17.4.0 in /usr/local/lib/python3.9/dist-packages (from jsonschema>=2.6->nbformat->notebook>=4.4.1->widgetsnbextension~=3.6.0->ipywidgets<8,>=7->tensorflow-model-analysis<0.41,>=0.40->fairness-indicators==0.40.0) (22.2.0)\n",
            "Requirement already satisfied: cffi>=1.0.1 in /usr/local/lib/python3.9/dist-packages (from argon2-cffi-bindings->argon2-cffi->notebook>=4.4.1->widgetsnbextension~=3.6.0->ipywidgets<8,>=7->tensorflow-model-analysis<0.41,>=0.40->fairness-indicators==0.40.0) (1.15.1)\n",
            "Requirement already satisfied: soupsieve>1.2 in /usr/local/lib/python3.9/dist-packages (from beautifulsoup4->nbconvert->notebook>=4.4.1->widgetsnbextension~=3.6.0->ipywidgets<8,>=7->tensorflow-model-analysis<0.41,>=0.40->fairness-indicators==0.40.0) (2.4)\n",
            "Requirement already satisfied: webencodings in /usr/local/lib/python3.9/dist-packages (from bleach->nbconvert->notebook>=4.4.1->widgetsnbextension~=3.6.0->ipywidgets<8,>=7->tensorflow-model-analysis<0.41,>=0.40->fairness-indicators==0.40.0) (0.5.1)\n",
            "Requirement already satisfied: pycparser in /usr/local/lib/python3.9/dist-packages (from cffi>=1.0.1->argon2-cffi-bindings->argon2-cffi->notebook>=4.4.1->widgetsnbextension~=3.6.0->ipywidgets<8,>=7->tensorflow-model-analysis<0.41,>=0.40->fairness-indicators==0.40.0) (2.21)\n",
            "Building wheels for collected packages: pyfarmhash, crcmod, dill, google-apitools, docopt\n",
            "  Building wheel for pyfarmhash (setup.py) ... \u001b[?25l\u001b[?25hdone\n",
            "  Created wheel for pyfarmhash: filename=pyfarmhash-0.3.2-cp39-cp39-linux_x86_64.whl size=101502 sha256=c1313d2765bc159eb74f4d4ab466b4387597c42ce53bc96632996d8f1e0e1136\n",
            "  Stored in directory: /root/.cache/pip/wheels/de/2b/b1/c541160670d70f4b08c4786f4e155337d4baeaa3e01d9d1400\n",
            "  Building wheel for crcmod (setup.py) ... \u001b[?25l\u001b[?25hdone\n",
            "  Created wheel for crcmod: filename=crcmod-1.7-cp39-cp39-linux_x86_64.whl size=36919 sha256=d1f8598af5b5506f922b836d3ef791188ad81a245923840e5cf80b7de4de170c\n",
            "  Stored in directory: /root/.cache/pip/wheels/4a/6c/a6/ffdd136310039bf226f2707a9a8e6857be7d70a3fc061f6b36\n",
            "  Building wheel for dill (setup.py) ... \u001b[?25l\u001b[?25hdone\n",
            "  Created wheel for dill: filename=dill-0.3.1.1-py3-none-any.whl size=78545 sha256=a94c4464788dd72769028a94732d55c5cf7627049c40d5f55a56b2176188d120\n",
            "  Stored in directory: /root/.cache/pip/wheels/4f/0b/ce/75d96dd714b15e51cb66db631183ea3844e0c4a6d19741a149\n",
            "  Building wheel for google-apitools (setup.py) ... \u001b[?25l\u001b[?25hdone\n",
            "  Created wheel for google-apitools: filename=google_apitools-0.5.31-py3-none-any.whl size=131038 sha256=950e67f5caf0cdea2f017739e430a0b0e73d187b7aeb76667913d0b7a4db6f49\n",
            "  Stored in directory: /root/.cache/pip/wheels/6c/f8/60/b9e91899dbaf25b6314047d3daee379bdd8d61b1dc3fd5ec7f\n",
            "  Building wheel for docopt (setup.py) ... \u001b[?25l\u001b[?25hdone\n",
            "  Created wheel for docopt: filename=docopt-0.6.2-py2.py3-none-any.whl size=13721 sha256=4eb09e41c5fda062d8745600ea5629e975356190fdf629c2c160d7bcf0ed5178\n",
            "  Stored in directory: /root/.cache/pip/wheels/70/4a/46/1309fc853b8d395e60bafaf1b6df7845bdd82c95fd59dd8d2b\n",
            "Successfully built pyfarmhash crcmod dill google-apitools docopt\n",
            "Installing collected packages: pyfarmhash, joblib, docopt, crcmod, zstandard, uritemplate, pymongo, pyarrow, overrides, orjson, objsize, jedi, fasteners, fastavro, dill, cachetools, tensorflow-metadata, hdfs, grpc-google-iam-v1, google-apitools, apache-beam, google-api-python-client, tensorflow, google-cloud-vision, google-cloud-videointelligence, google-cloud-spanner, google-cloud-recommendations-ai, google-cloud-pubsub, google-cloud-language, google-cloud-dlp, google-cloud-datastore, google-cloud-bigtable, google-cloud-bigquery-storage, tensorflow-serving-api, google-cloud-pubsublite, witwidget, tfx-bsl, tensorflow-model-analysis, tensorflow-data-validation, fairness-indicators\n",
            "  Attempting uninstall: joblib\n",
            "    Found existing installation: joblib 1.1.1\n",
            "    Uninstalling joblib-1.1.1:\n",
            "      Successfully uninstalled joblib-1.1.1\n",
            "  Attempting uninstall: uritemplate\n",
            "    Found existing installation: uritemplate 4.1.1\n",
            "    Uninstalling uritemplate-4.1.1:\n",
            "      Successfully uninstalled uritemplate-4.1.1\n",
            "  Attempting uninstall: pyarrow\n",
            "    Found existing installation: pyarrow 9.0.0\n",
            "    Uninstalling pyarrow-9.0.0:\n",
            "      Successfully uninstalled pyarrow-9.0.0\n",
            "  Attempting uninstall: cachetools\n",
            "    Found existing installation: cachetools 5.3.0\n",
            "    Uninstalling cachetools-5.3.0:\n",
            "      Successfully uninstalled cachetools-5.3.0\n",
            "  Attempting uninstall: tensorflow-metadata\n",
            "    Found existing installation: tensorflow-metadata 1.12.0\n",
            "    Uninstalling tensorflow-metadata-1.12.0:\n",
            "      Successfully uninstalled tensorflow-metadata-1.12.0\n",
            "  Attempting uninstall: google-api-python-client\n",
            "    Found existing installation: google-api-python-client 2.70.0\n",
            "    Uninstalling google-api-python-client-2.70.0:\n",
            "      Successfully uninstalled google-api-python-client-2.70.0\n",
            "  Attempting uninstall: tensorflow\n",
            "    Found existing installation: tensorflow 2.11.0\n",
            "    Uninstalling tensorflow-2.11.0:\n",
            "      Successfully uninstalled tensorflow-2.11.0\n",
            "  Attempting uninstall: google-cloud-language\n",
            "    Found existing installation: google-cloud-language 2.6.1\n",
            "    Uninstalling google-cloud-language-2.6.1:\n",
            "      Successfully uninstalled google-cloud-language-2.6.1\n",
            "  Attempting uninstall: google-cloud-datastore\n",
            "    Found existing installation: google-cloud-datastore 2.11.1\n",
            "    Uninstalling google-cloud-datastore-2.11.1:\n",
            "      Successfully uninstalled google-cloud-datastore-2.11.1\n",
            "  Attempting uninstall: google-cloud-bigquery-storage\n",
            "    Found existing installation: google-cloud-bigquery-storage 2.19.0\n",
            "    Uninstalling google-cloud-bigquery-storage-2.19.0:\n",
            "      Successfully uninstalled google-cloud-bigquery-storage-2.19.0\n",
            "\u001b[31mERROR: pip's dependency resolver does not currently take into account all the packages that are installed. This behaviour is the source of the following dependency conflicts.\n",
            "scikit-learn 1.2.2 requires joblib>=1.1.1, but you have joblib 0.14.1 which is incompatible.\n",
            "pandas-profiling 3.2.0 requires joblib~=1.1.0, but you have joblib 0.14.1 which is incompatible.\n",
            "imbalanced-learn 0.10.1 requires joblib>=1.1.1, but you have joblib 0.14.1 which is incompatible.\u001b[0m\u001b[31m\n",
            "\u001b[0mSuccessfully installed apache-beam-2.46.0 cachetools-4.2.4 crcmod-1.7 dill-0.3.1.1 docopt-0.6.2 fairness-indicators-0.40.0 fastavro-1.7.3 fasteners-0.18 google-api-python-client-1.12.11 google-apitools-0.5.31 google-cloud-bigquery-storage-2.16.2 google-cloud-bigtable-1.7.3 google-cloud-datastore-1.15.5 google-cloud-dlp-3.12.1 google-cloud-language-1.3.2 google-cloud-pubsub-2.15.2 google-cloud-pubsublite-1.8.1 google-cloud-recommendations-ai-0.7.1 google-cloud-spanner-3.29.0 google-cloud-videointelligence-1.16.3 google-cloud-vision-3.4.1 grpc-google-iam-v1-0.12.6 hdfs-2.7.0 jedi-0.18.2 joblib-0.14.1 objsize-0.6.1 orjson-3.8.8 overrides-6.5.0 pyarrow-5.0.0 pyfarmhash-0.3.2 pymongo-3.13.0 tensorflow-2.11.1 tensorflow-data-validation-1.9.0 tensorflow-metadata-1.9.0 tensorflow-model-analysis-0.40.0 tensorflow-serving-api-2.11.1 tfx-bsl-1.9.0 uritemplate-3.0.1 witwidget-1.8.1 zstandard-0.20.0\n"
          ]
        }
      ]
    },
    {
      "cell_type": "markdown",
      "metadata": {
        "id": "mdLlKWbIlxYH"
      },
      "source": [
        "Next, import all the dependencies we'll use in this exercise, which include Fairness Indicators, TensorFlow Model Analysis (tfma), TensorFlow Data Validation (tfdv), and the What-If tool (WIT):"
      ]
    },
    {
      "cell_type": "code",
      "metadata": {
        "id": "6E__x2XkJDFW"
      },
      "source": [
        "%tensorflow_version 2.x\n",
        "import os\n",
        "import tempfile\n",
        "import apache_beam as beam\n",
        "import numpy as np\n",
        "import pandas as pd\n",
        "from datetime import datetime\n",
        "\n",
        "import tensorflow_hub as hub\n",
        "import tensorflow as tf\n",
        "import tensorflow_model_analysis as tfma\n",
        "import tensorflow_data_validation as tfdv\n",
        "from tensorflow_model_analysis.addons.fairness.post_export_metrics import fairness_indicators\n",
        "from tensorflow_model_analysis.addons.fairness.view import widget_view\n",
        "from fairness_indicators.tutorial_utils import util\n",
        "\n",
        "from witwidget.notebook.visualization import WitConfigBuilder\n",
        "from witwidget.notebook.visualization import WitWidget"
      ],
      "execution_count": null,
      "outputs": []
    },
    {
      "cell_type": "markdown",
      "metadata": {
        "id": "dNfRkjWWIKIs"
      },
      "source": [
        "## Part I: Audit the Data\n",
        "In this section, you'll audit the Civil Comments dataset to proactively identify fairness considerations prior to training the model.\n"
      ]
    },
    {
      "cell_type": "markdown",
      "metadata": {
        "id": "J3R2QWkru1WN"
      },
      "source": [
        "### About the Civil Comments dataset\n",
        "\n",
        "Click below to learn more about the Civil Comments dataset, and how we've preprocessed it for this exercise."
      ]
    },
    {
      "cell_type": "markdown",
      "metadata": {
        "id": "ZZswcJJMCDjU"
      },
      "source": [
        "The Civil Comments dataset comprises approximately 2 million public comments that were submitted to the [Civil Comments platform](https://medium.com/@aja_15265/saying-goodbye-to-civil-comments-41859d3a2b1d). [Jigsaw](https://jigsaw.google.com/) sponsored the effort to compile and annotate these comments for ongoing [research](https://arxiv.org/abs/1903.04561); they've also hosted competitions on [Kaggle](https://www.kaggle.com/c/jigsaw-unintended-bias-in-toxicity-classification) to help classify toxic comments as well as minimize unintended model bias. \n",
        "\n",
        "#### Features\n",
        "\n",
        "Within the Civil Comments data, a subset of comments are tagged with a variety of identity attributes pertaining to gender, sexual orientation, religion, race, and ethnicity. Each identity annotation column contains a value that represents the percentage of annotators who categorized a comment as containing references to that identity. Multiple identities may be present in a comment.\n",
        "\n",
        "**NOTE:** These identity attributes are intended *for evaluation purposes only*, to assess how well a classifier trained solely on the comment text performs on different tag sets.\n",
        "\n",
        "To collect these identity labels, each comment was reviewed by up to 10 annotators, who were asked to indicate all identities that were mentioned in the comment. For example, annotators were posed the question: \"What genders are mentioned in the comment?\", and asked to choose all of the following categories that were applicable.\n",
        "\n",
        "* Male\n",
        "* Female\n",
        "* Transgender\n",
        "* Other gender\n",
        "* No gender mentioned\n",
        "\n",
        "**NOTE:** *We recognize the limitations of the categories used in the original dataset, and acknowledge that these terms do not encompass the full range of vocabulary used in describing gender.*\n",
        "\n",
        "Jigsaw used these ratings to generate an aggregate score for each identity attribute representing the percentage of raters who said the identity was mentioned in the comment. For example, if 10 annotators reviewed a comment, and 6 said that the comment mentioned the identity \"female\" and 0 said that the comment mentioned the identity \"male,\" the comment would receive a `female` score of `0.6` and a `male` score of `0.0`.\n",
        "\n",
        "**NOTE:** For the purposes of annotation, a comment was considered to \"mention\" gender if it contained a comment about gender issues (e.g., a discussion about feminism, wage gap between men and women, transgender rights, etc.), gendered language, or gendered insults. Use of \"he,\" \"she,\" or gendered names (e.g., Donald, Margaret) did not require a gender label. \n",
        "\n",
        "#### Label\n",
        "\n",
        "Each comment was rated by up to 10 annotators for toxicity, who each classified it with one of the following ratings.\n",
        "\n",
        "* Very Toxic\n",
        "* Toxic\n",
        "* Hard to Say\n",
        "* Not Toxic\n",
        "\n",
        "Again, Jigsaw used these ratings to generate an aggregate toxicity \"score\" for each comment (ranging from `0.0` to `1.0`) to serve as the [label](https://developers.google.com/machine-learning/glossary?utm_source=Colab&utm_medium=fi-colab&utm_campaign=fi-practicum&utm_content=glossary&utm_term=label#label), representing the fraction of annotators who labeled the comment either \"Very Toxic\" or \"Toxic.\" For example, if 10 annotators rated a comment, and 3 of them labeled it \"Very Toxic\" and 5 of them labeled it \"Toxic\", the comment would receive a toxicity score of `0.8`.\n",
        "\n",
        "**NOTE:** For more information on the Civil Comments labeling schema, see the [Data](https://www.kaggle.com/c/jigsaw-unintended-bias-in-toxicity-classification/data) section of the Jigsaw Untended Bias in Toxicity Classification Kaggle competition.\n",
        "\n",
        "#### Example\n",
        "\n",
        "Here are the feature values for one example in the dataset:\n",
        "\n",
        "* **`comment_text`**: `i'm a white woman in my late 60's and believe me, they are not too crazy about me either!!`\n",
        "* **`female`**: `1.0`\n",
        "* **`white`**: `1.0`\n",
        "\n",
        "All raters tagged this comment with the labels `female` and `white`, giving the example scores of `1.0` for each of these identity mention labels.\n",
        "\n",
        "**NOTE:** All other identity labels (e.g., `male`, `asian`) had values of `0.0`.\n",
        "\n",
        "Here's the label for this example:\n",
        "\n",
        "* **`toxicity`**: `0.0`\n",
        "\n",
        "All raters labeled the above comment \"not toxic,\" which resulted in a toxicity label of `0.0`.\n",
        "\n",
        "### Preprocessing the data\n",
        "For the purposes of this exercise, we converted toxicity and identity columns to booleans in order to work with our neural net and metrics calculations. In the preprocessed dataset, we considered any value ≥ 0.5 as True (i.e., a comment is considered toxic if 50% or more crowd raters labeled it as toxic).\n",
        "\n",
        "For identity labels, the threshold 0.5 was chosen and the identities were grouped together by their categories. For example, if one comment has `{ male: 0.3, female: 1.0, transgender: 0.0, heterosexual: 0.8, homosexual_gay_or_lesbian: 1.0 }`, after processing, the data will be `{ gender: [female], sexual_orientation: [heterosexual, homosexual_gay_or_lesbian] }`.\n",
        "\n",
        "**NOTE:** Missing identity fields were converted to False.\n",
        "\n",
        "#### Example\n",
        "\n",
        "After preprocessing, here's the revised feature and label data for the example from above:\n",
        "\n",
        "* **`comment_text`**: `i'm a white woman in my late 60's and believe me, they are not too crazy about me either!!`\n",
        "* **`gender`**: `[female]`\n",
        "* **`race`**: `[white]`\n",
        "* **`disability`**: `[]`\n",
        "* **`religion`**: `[]`\n",
        "* **`sexual_orientation`**: `[]`\n",
        "* **`toxicity`**: `0.0`\n",
        "\n"
      ]
    },
    {
      "cell_type": "markdown",
      "metadata": {
        "id": "0YNqAJW5JjZD"
      },
      "source": [
        "### Load the data\n",
        "\n",
        "We've posted copies of both the original Civil Comments dataset and our preprocessed data on Google Cloud Platform (in [TFRecord](https://www.tensorflow.org/tutorials/load_data/tfrecord) format) to make it easy to import into this notebook.\n",
        "\n",
        "Run the following cell to download and import the training and validation datasets. By default, the following code will load the preprocessed data. If you prefer, you can enable the `download_original_data` checkbox at right to download the original dataset and preprocess it as described in the previous section (this may take 5-10 minutes).\n"
      ]
    },
    {
      "cell_type": "code",
      "metadata": {
        "id": "duPWGTQAvYKK"
      },
      "source": [
        "download_original_data = False #@param {type:\"boolean\"}\n",
        "\n",
        "if download_original_data:\n",
        "  train_tf_file = tf.keras.utils.get_file('train_tf.tfrecord',\n",
        "                                          'https://storage.googleapis.com/civil_comments_dataset/train_tf.tfrecord')\n",
        "  validate_tf_file = tf.keras.utils.get_file('validate_tf.tfrecord',\n",
        "                                             'https://storage.googleapis.com/civil_comments_dataset/validate_tf.tfrecord')\n",
        "\n",
        "  # The identity terms list will be grouped together by their categories\n",
        "  # (see 'IDENTITY_COLUMNS') on threshould 0.5. Only the identity term column,\n",
        "  # text column and label column will be kept after processing.\n",
        "  train_tf_file = util.convert_comments_data(train_tf_file)\n",
        "  validate_tf_file = util.convert_comments_data(validate_tf_file)\n",
        "\n",
        "else:\n",
        "  train_tf_file = tf.keras.utils.get_file('train_tf_processed.tfrecord',\n",
        "                                          'https://storage.googleapis.com/civil_comments_dataset/train_tf_processed.tfrecord')\n",
        "  validate_tf_file = tf.keras.utils.get_file('validate_tf_processed.tfrecord',\n",
        "                                             'https://storage.googleapis.com/civil_comments_dataset/validate_tf_processed.tfrecord')"
      ],
      "execution_count": null,
      "outputs": []
    },
    {
      "cell_type": "markdown",
      "metadata": {
        "id": "aLup7wY0_Q3K"
      },
      "source": [
        "### Explore the data distribution in TFDV\n",
        "\n",
        "Before we train the model, let's do a quick audit of our training data using [TensorFlow Data Validation](https://www.tensorflow.org/tfx/data_validation/get_started), so we can better understand our data distribution.\n",
        "\n",
        "**NOTE:** *The following cell may take 2–3 minutes to run.*"
      ]
    },
    {
      "cell_type": "code",
      "metadata": {
        "id": "vkzcE_g8_m_h"
      },
      "source": [
        "stats = tfdv.generate_statistics_from_tfrecord(data_location=train_tf_file)\n",
        "tfdv.visualize_statistics(stats)"
      ],
      "execution_count": null,
      "outputs": []
    },
    {
      "cell_type": "markdown",
      "metadata": {
        "id": "wZU1Djze6E-s"
      },
      "source": [
        "### Exercise\n",
        "Use the TensorFlow Data Validation widget above to answer the following questions."
      ]
    },
    {
      "cell_type": "markdown",
      "metadata": {
        "id": "ne2_vKAb-XGD"
      },
      "source": [
        "#### **1. How many total examples are in the training dataset?**"
      ]
    },
    {
      "cell_type": "markdown",
      "metadata": {
        "id": "UFBqqnRD-Zkj"
      },
      "source": [
        "#### Solution\n",
        "\n",
        "Click below for the solution.\n"
      ]
    },
    {
      "cell_type": "markdown",
      "metadata": {
        "id": "XSkOfchI-arC"
      },
      "source": [
        "**There are 1.08 million total examples in the training dataset.**\n",
        "\n",
        "  The count column tells us how many examples there are for a given feature.  Each feature (`sexual_orientation`, `comment_text`, `gender`, etc.) has 1.08 million examples. The missing column tells us what percentage of examples are missing that feature. \n",
        "\n",
        "![Screenshot of first row of Categorical Features table in the TFDV widget, with 1.08 million count of examples and 0% missing examples highlighted](https://developers.google.com/machine-learning/practica/fairness-indicators/colab-images/tfdv_screenshot_exercise1.png)  \n",
        "  \n",
        "Each feature is missing from 0% of examples, so we know that the per-feature example count of 1.08 million is also the total number of examples in the dataset."
      ]
    },
    {
      "cell_type": "markdown",
      "metadata": {
        "id": "_PgFNm6sAZB2"
      },
      "source": [
        "#### **2. How many unique values are there for the `gender` feature? What are they, and what are the frequencies of each of these values?**\n",
        "\n",
        "**NOTE #1:** `gender` and the other identity features (`sexual_orientation`, `religion`, `disability`, and `race`) are included in this dataset for evaluation purposes only, so we can assess model performance on different identity slices. The only feature we will use for model training is `comment_text`.\n",
        "\n",
        "**NOTE #2:** *We recognize the limitations of the categories used in the original dataset, and acknowledge that these terms do not encompass the full range of vocabulary used in describing gender.*"
      ]
    },
    {
      "cell_type": "markdown",
      "metadata": {
        "id": "6KmrCS-uAz0s"
      },
      "source": [
        "#### Solution\n",
        "\n",
        "Click below for the solution."
      ]
    },
    {
      "cell_type": "markdown",
      "metadata": {
        "id": "wkc7P1nvA4cw"
      },
      "source": [
        "The **unique** column of the **Categorical Features** table tells us that there are 4 unique values for the `gender` feature.\n",
        "\n",
        "To view the 4 values and their frequencies, we can click on the **SHOW RAW DATA** button:\n",
        "\n",
        "![\"gender\" row of the \"Categorical Data\" table in the TFDV widget, with raw data highlighted.](https://developers.google.com/machine-learning/practica/fairness-indicators/colab-images/tfdv_screenshot_exercise2.png)\n",
        "\n",
        "The raw data table shows that there are 32,208 examples with a gender value of `female`, 26,758 examples with a value of `male`, 1,551 examples with a value of `transgender`, and 4 examples with a value of `other gender`.\n",
        "\n",
        "\n",
        "\n"
      ]
    },
    {
      "cell_type": "markdown",
      "metadata": {
        "id": "NDUO57bdNUQR"
      },
      "source": [
        "**NOTE:** As described [earlier](#scrollTo=J3R2QWkru1WN), a `gender` feature can contain zero or more of these 4 values, depending on the content of the comment. For example, a comment containing the text \"I am a transgender man\" will have both `transgender` and `male` as `gender` values, whereas a comment that does not reference gender at all will have an empty/false `gender` value."
      ]
    },
    {
      "cell_type": "markdown",
      "metadata": {
        "id": "wX62Ktwp-qoF"
      },
      "source": [
        "#### **3. What percentage of total examples are labeled toxic? Overall, is this a class-balanced dataset (relatively even split of examples between positive and negative classes) or a class-imbalanced dataset (majority of examples are in one class)?**\n",
        "\n",
        "**NOTE:** In this dataset, a `toxicity` value of `0` signifies \"not toxic,\"  and a `toxicity` value of `1` signifies \"toxic.\""
      ]
    },
    {
      "cell_type": "markdown",
      "metadata": {
        "id": "IvvxNMgM-6A2"
      },
      "source": [
        "#### Solution\n",
        "\n",
        "Click below for the solution."
      ]
    },
    {
      "cell_type": "markdown",
      "metadata": {
        "id": "QmCtkzZqOvC2"
      },
      "source": [
        "**7.98 percent of examples are toxic.**\n",
        "\n",
        "Under **Numeric Features**, we can see the distribution of values for the `toxicity` feature. 92.02% of examples have a value of 0 (which signifies \"non-toxic\"), so 7.98% of examples are toxic.\n",
        "\n",
        "![Screenshot of the \"toxicity\" row in the Numeric Features table in the TFDV widget, highlighting the \"zeros\" column showing that 92.01% of examples have a toxicity value of 0.](https://developers.google.com/machine-learning/practica/fairness-indicators/colab-images/tfdv_screenshot_exercise3.png)\n",
        "\n",
        "This is a [**class-imbalanced dataset**](https://developers.google.com/machine-learning/glossary?utm_source=Colab&utm_medium=fi-colab&utm_campaign=fi-practicum&utm_content=glossary&utm_term=class-imbalanced-dataset#class-imbalanced-dataset), as the overwhelming majority of examples (over 90%) are classified as nontoxic."
      ]
    },
    {
      "cell_type": "markdown",
      "metadata": {
        "id": "9MGLCsVhGWz0"
      },
      "source": [
        "#### **4. Run the following code to analyze label distribution for the subset of examples that contain a `gender` value**"
      ]
    },
    {
      "cell_type": "code",
      "metadata": {
        "id": "f5pEWIkgLTKz",
        "cellView": "form"
      },
      "source": [
        "#@title Calculate label distribution for gender-related examples\n",
        "raw_dataset = tf.data.TFRecordDataset(train_tf_file)\n",
        "\n",
        "toxic_gender_examples = 0\n",
        "nontoxic_gender_examples = 0\n",
        "\n",
        "for raw_record in raw_dataset.take(-1):  # '-1' for \"everything\"\n",
        "  example = tf.train.Example()\n",
        "  example.ParseFromString(raw_record.numpy())\n",
        "  if example.features.feature[\"gender\"].bytes_list.value != []:\n",
        "    if example.features.feature[\"toxicity\"].float_list.value == [1.0]:\n",
        "      toxic_gender_examples += 1\n",
        "    else:\n",
        "      nontoxic_gender_examples += 1\n",
        "\n",
        "print(\"Toxic Gender Examples: %s\" % toxic_gender_examples)\n",
        "print(\"Nontoxic Gender Examples: %s\" % nontoxic_gender_examples)"
      ],
      "execution_count": null,
      "outputs": []
    },
    {
      "cell_type": "markdown",
      "metadata": {
        "id": "WJag4cEKNINy"
      },
      "source": [
        "#### **What percentage of `gender` examples are labeled toxic? Compare this percentage to the percentage of total examples that are labeled toxic from #3 above. What, if any, fairness concerns can you identify based on this comparison?**"
      ]
    },
    {
      "cell_type": "markdown",
      "metadata": {
        "id": "-J4hbOhgHZid"
      },
      "source": [
        "#### Solution\n",
        "\n",
        "Click below for one possible solution."
      ]
    },
    {
      "cell_type": "markdown",
      "metadata": {
        "id": "2KK3VWzkHmJ7"
      },
      "source": [
        "There are 7,189 gender-related examples that are labeled toxic, which represent 14.7% of all gender-related examples.\n",
        "\n",
        "The percentage of gender-related examples that are toxic (14.7%) is nearly double the percentage of toxic examples overall (7.98%). In other words, in our dataset, gender-related comments are almost two times more likely than comments overall to be labeled as toxic.\n",
        "\n",
        "This skew suggests that a model trained on this dataset might learn a correlation between gender-related content and toxicity. This raises fairness considerations, as the model might be more likely to classify nontoxic comments as toxic if they contain gender terminology, which could lead to [disparate impact](https://developers.google.com/machine-learning/glossary?utm_source=Colab&utm_medium=fi-colab&utm_campaign=fi-practicum&utm_content=glossary&utm_term=disparate-impact#disparate-impact) for gender subgroups. "
      ]
    },
    {
      "cell_type": "markdown",
      "metadata": {
        "id": "5WHVYnlGX7g8"
      },
      "source": [
        "## Part II: Train the model"
      ]
    },
    {
      "cell_type": "markdown",
      "metadata": {
        "id": "Xi5nnJ3hX9OO"
      },
      "source": [
        "In this section, you'll train a classifier on the Civil Comments dataset to predict whether a given text comment is toxic or not."
      ]
    },
    {
      "cell_type": "markdown",
      "metadata": {
        "id": "ZCYUx0uVAz7v"
      },
      "source": [
        "### Configure model input\n",
        "\n",
        "In order to feed data into our model, we'll need to define both a feature map and an input function. \n",
        "\n",
        "The feature map configures the features and label we'll be using, and their corresponding data types. The only feature we'll use for training is the `comment_text`. However, we'll also use the features for the five different identity categories (`sexual_orientation`, `gender`, `religion`, `race`, and `disability`) for evaluation purposes. Our label is `toxicity`, which (after our data preprocessing) has a value of either `0` (\"not toxic\") or `1` (\"toxic\")."
      ]
    },
    {
      "cell_type": "code",
      "metadata": {
        "id": "SXqU-HJlB0fG"
      },
      "source": [
        "TEXT_FEATURE = 'comment_text'\n",
        "LABEL = 'toxicity'\n",
        "\n",
        "FEATURE_MAP = {\n",
        "    # Label:\n",
        "    LABEL: tf.io.FixedLenFeature([], tf.float32),\n",
        "    # Text:\n",
        "    TEXT_FEATURE:  tf.io.FixedLenFeature([], tf.string),\n",
        "\n",
        "    # Identities:\n",
        "    'sexual_orientation':tf.io.VarLenFeature(tf.string),\n",
        "    'gender':tf.io.VarLenFeature(tf.string),\n",
        "    'religion':tf.io.VarLenFeature(tf.string),\n",
        "    'race':tf.io.VarLenFeature(tf.string),\n",
        "    'disability':tf.io.VarLenFeature(tf.string),\n",
        "}"
      ],
      "execution_count": null,
      "outputs": []
    },
    {
      "cell_type": "markdown",
      "metadata": {
        "id": "OlEoDYlvMABU"
      },
      "source": [
        "The input function below specifies how to preprocess and batch the training data into the model. \n",
        "\n",
        "Because we uncovered a class imbalance when auditing our dataset with TFDV earlier, we'll preprocess our data to add a `weight` column to each example.\n",
        "We'll set the `weight` value for each example to `LABEL + 0.1`, resulting in a `weight` of 0.1 for nontoxic examples and a `weight` of 1.1 for toxic examples. During model training, TensorFlow will multiply each example's loss by its `weight`, *upweighting* the toxic examples by increasing the penalty for error in scoring a toxic example relative to the penalty for error in scoring a nontoxic example.\n",
        "\n",
        "Then we'll feed our data into the model in batches of 512 examples.\n"
      ]
    },
    {
      "cell_type": "code",
      "metadata": {
        "id": "ZaaKKjYwP6XY"
      },
      "source": [
        "def train_input_fn():\n",
        "  def parse_function(serialized):\n",
        "    parsed_example = tf.io.parse_single_example(\n",
        "        serialized=serialized, features=FEATURE_MAP)\n",
        "    # Adds a weight column to deal with unbalanced classes.\n",
        "    parsed_example['weight'] = tf.add(parsed_example[LABEL], 0.1)\n",
        "    return (parsed_example,\n",
        "            parsed_example[LABEL])\n",
        "  train_dataset = tf.data.TFRecordDataset(\n",
        "      filenames=[train_tf_file]).map(parse_function).batch(512)\n",
        "  return train_dataset"
      ],
      "execution_count": null,
      "outputs": []
    },
    {
      "cell_type": "markdown",
      "metadata": {
        "id": "EX92OLF2MKSu"
      },
      "source": [
        "### Train the model\n",
        "\n",
        "Next, create a deep neural network model, and train it on the data. Run the below code to create a `DNNClassifier` model with 2 hidden layers.\n",
        "\n",
        "**NOTE:** For training, the only feature we will feed into the model is an embedding of our comment text (`embedded_text_feature_column`). The identity features we configured [above](#scrollTo=ZCYUx0uVAz7v) will only be used to assess model performance later on in the evaluation phase."
      ]
    },
    {
      "cell_type": "code",
      "metadata": {
        "id": "2qW8TlgVRzFc"
      },
      "source": [
        "BASE_DIR = tempfile.gettempdir()\n",
        "\n",
        "model_dir = os.path.join(BASE_DIR, 'train', datetime.now().strftime(\n",
        "    \"%Y%m%d-%H%M%S\"))\n",
        "\n",
        "embedded_text_feature_column = hub.text_embedding_column(\n",
        "    key=TEXT_FEATURE,\n",
        "    module_spec='https://tfhub.dev/google/nnlm-en-dim128/1')\n",
        "\n",
        "classifier = tf.estimator.DNNClassifier(\n",
        "    hidden_units=[500, 100],\n",
        "    weight_column='weight',\n",
        "    feature_columns=[embedded_text_feature_column],\n",
        "    optimizer=tf.optimizers.Adagrad(learning_rate=0.003),\n",
        "    loss_reduction=tf.losses.Reduction.SUM,\n",
        "    n_classes=2,\n",
        "    model_dir=model_dir)\n",
        "\n",
        "classifier.train(input_fn=train_input_fn, steps=1000)"
      ],
      "execution_count": null,
      "outputs": []
    },
    {
      "cell_type": "markdown",
      "metadata": {
        "id": "EjNbZGqFYCUy"
      },
      "source": [
        "## Part III: Run Fairness Indicators\n",
        "\n",
        "In this section you'll use Fairness Indicators to evaluate the model's results for different subgroups of comments. Specifically, you'll take a closer look at performance for different gender categories."
      ]
    },
    {
      "cell_type": "markdown",
      "metadata": {
        "id": "EXd2-UzFbAwE"
      },
      "source": [
        "### Export the model"
      ]
    },
    {
      "cell_type": "markdown",
      "metadata": {
        "id": "jMYWdUaUbIb-"
      },
      "source": [
        "First, let's export the model we trained in the [previous section](#scrollTo=5WHVYnlGX7g8), so that we can analyze the results using [TensorFlow Model Analysis (TFMA)](https://www.tensorflow.org/tfx/model_analysis/get_started)."
      ]
    },
    {
      "cell_type": "code",
      "metadata": {
        "id": "R-7dDws2bHxS"
      },
      "source": [
        "def eval_input_receiver_fn():\n",
        "  serialized_tf_example = tf.compat.v1.placeholder(\n",
        "      dtype=tf.string, shape=[None], name='input_example_placeholder')\n",
        "\n",
        "  # This *must* be a dictionary containing a single key 'examples', which\n",
        "  # points to the input placeholder.\n",
        "  receiver_tensors = {'examples': serialized_tf_example}\n",
        "\n",
        "  features = tf.io.parse_example(serialized_tf_example, FEATURE_MAP)\n",
        "  features['weight'] = tf.ones_like(features[LABEL])\n",
        "\n",
        "  return tfma.export.EvalInputReceiver(\n",
        "    features=features,\n",
        "    receiver_tensors=receiver_tensors,\n",
        "    labels=features[LABEL])\n",
        "\n",
        "tfma_export_dir = tfma.export.export_eval_savedmodel(\n",
        "  estimator=classifier,\n",
        "  export_dir_base=os.path.join(BASE_DIR, 'tfma_eval_model'),\n",
        "  eval_input_receiver_fn=eval_input_receiver_fn)"
      ],
      "execution_count": null,
      "outputs": []
    },
    {
      "cell_type": "markdown",
      "metadata": {
        "id": "Xq8NWjzUcAhA"
      },
      "source": [
        "### Compute fairness metrics\n",
        "\n",
        "Next, run the following code to compute fairness metrics on the model output. Here, we'll compute metrics on our 4 gender slices (`female`, `male`, `transgender`, and `other_gender`).\n",
        "\n",
        "**NOTE:** *Depending on your configurations, this step will take 2–10 minutes to run. For this exercise, we recommend leaving* `compute_confidence_intervals` *disabled to decrease computation time.*\n"
      ]
    },
    {
      "cell_type": "code",
      "metadata": {
        "id": "Pkuti2_8cR2D",
        "cellView": "both"
      },
      "source": [
        "tfma_eval_result_path = os.path.join(BASE_DIR, 'tfma_eval_result')\n",
        "\n",
        "# NOTE: If you want to explore slicing by other categories, you can change\n",
        "# the slice_section value to \"sexual_orientation\", \"religion\", \"race\", \n",
        "# or \"disability\"\n",
        "slice_selection = 'gender' \n",
        "\n",
        "# Computing confidence intervals can help you make better decisions \n",
        "# regarding your data, but it requires computing multiple resamples, \n",
        "# so it takes significantly longer to run, particularly in Colab \n",
        "# (which cannot take advantage of parallelization), \n",
        "# so we leave it disabled here.\n",
        "compute_confidence_intervals = False\n",
        "\n",
        "# Define slices that you want the evaluation to run on.\n",
        "slice_spec = [\n",
        "    tfma.slicer.SingleSliceSpec(), # Overall slice\n",
        "    tfma.slicer.SingleSliceSpec(columns=[slice_selection]),\n",
        "]\n",
        "\n",
        "# Add the fairness metrics.\n",
        "add_metrics_callbacks = [\n",
        "  tfma.post_export_metrics.fairness_indicators(\n",
        "      thresholds=[0.1, 0.3, 0.5, 0.7, 0.9],\n",
        "      labels_key=LABEL\n",
        "      )\n",
        "]\n",
        "\n",
        "eval_shared_model = tfma.default_eval_shared_model(\n",
        "    eval_saved_model_path=tfma_export_dir,\n",
        "    add_metrics_callbacks=add_metrics_callbacks)\n",
        "\n",
        "# Run the fairness evaluation.\n",
        "with beam.Pipeline() as pipeline:\n",
        "  _ = (\n",
        "      pipeline\n",
        "      | 'ReadData' >> beam.io.ReadFromTFRecord(validate_tf_file)\n",
        "      | 'ExtractEvaluateAndWriteResults' >>\n",
        "       tfma.ExtractEvaluateAndWriteResults(\n",
        "                 eval_shared_model=eval_shared_model,\n",
        "                 slice_spec=slice_spec,\n",
        "                 compute_confidence_intervals=compute_confidence_intervals,\n",
        "                 output_path=tfma_eval_result_path)\n",
        "  )\n",
        "\n",
        "eval_result = tfma.load_eval_result(output_path=tfma_eval_result_path)"
      ],
      "execution_count": null,
      "outputs": []
    },
    {
      "cell_type": "markdown",
      "metadata": {
        "id": "BssBGpqmwBMd"
      },
      "source": [
        "Finally, render the Fairness Indicators widget with the exported evaluation results."
      ]
    },
    {
      "cell_type": "code",
      "metadata": {
        "id": "HFlK9U40dyDk"
      },
      "source": [
        "widget_view.render_fairness_indicator(eval_result=eval_result, slicing_column=slice_selection)"
      ],
      "execution_count": null,
      "outputs": []
    },
    {
      "cell_type": "markdown",
      "metadata": {
        "id": "wEMcXd8ZO_T4"
      },
      "source": [
        "**NOTE:** The categories above are not mutually exclusive, as examples can be tagged with zero or more of these gender-identity terms. An example with gender values of both `transgender` and `female` will be represented in both the `gender:transgender` and `gender:female` slices."
      ]
    },
    {
      "cell_type": "markdown",
      "metadata": {
        "id": "R-pA9MSPOl1_"
      },
      "source": [
        "### Exercise\n",
        "In the previous [TensorFlow Data Validation exercise](#scrollTo=wZU1Djze6E-s), we determined that the relatively small proportion of examples that had associated `gender` values combined with the class-imbalanced nature of the dataset might result in some bias in the model's predictions.\n",
        "\n",
        "Now that we've trained the model, we can actually evaluate for gender-related bias. In particular, we can take a closer look at gender-group performance on the following two metrics related to misclassifications:\n",
        "\n",
        "* **False positive rate (FPR)**, which tells us the percentage of actual \"not toxic\" comments that were incorrectly classified as \"toxic\"\n",
        "* **False negative rate (FNR)**, which tells us the percentage of actual \"toxic\" comments that were incorrectly classified as \"not toxic\"\n",
        "\n",
        "Use the Fairness Indicators widget above to answer the following questions."
      ]
    },
    {
      "cell_type": "markdown",
      "metadata": {
        "id": "YPDRjcKZk3EL"
      },
      "source": [
        "#### **1. What are the overall false positive rate (FPR) and false negative rate (FNR) for the model at a classification threshold of 0.5?**"
      ]
    },
    {
      "cell_type": "markdown",
      "metadata": {
        "id": "tGyACRd8oFwP"
      },
      "source": [
        "#### Solution\n",
        "\n",
        "Click below for the solution."
      ]
    },
    {
      "cell_type": "markdown",
      "metadata": {
        "id": "QzmJGSTYsEYx"
      },
      "source": [
        "Select a threshold of 0.5 in the dropdown at the the top of the widget. To view overall FPR results, enable the **post_export_metrics/false_positive_rate** checkbox in the left panel and locate the **Overall** value in the table below the bar graph. Similarly, to view FNR results for gender subgroups, enable the **post_export_metrics/false_negative_rate** checkbox in the left panel, and locate the **Overall** value in the table.\n",
        "\n",
        "Our results show that overall FPR\\@0.5 is 0.28, and overall FNR\\@0.5 is 0.27:\n",
        "\n",
        "![Side-by-side screenshot of FPR and FNR results in the Fairness Indicator widget. At left, Fairness Indicator results with the post_export_metrics/false_positive_rate metric enabled, and the Overall value of 0.28057 circled. At right, Fairness Indicator results with the post_export_metrics/false_negative_rate metric enabled, and the Overall value of 0.27339 circled](https://developers.google.com/machine-learning/practica/fairness-indicators/colab-images/fairness_indicators_colab1_exercise1.png)\n",
        "\n",
        "**NOTE:** *Model training is not deterministic, so your exact evaluation results here may vary slightly from ours.*\n"
      ]
    },
    {
      "cell_type": "markdown",
      "metadata": {
        "id": "nu8LXMy8nR8N"
      },
      "source": [
        "#### **2. What are the FPR\\@0.5 and FNR\\@0.5 for the following gender subgroups:** \n",
        "  * `male`\n",
        "  * `female`"
      ]
    },
    {
      "cell_type": "markdown",
      "metadata": {
        "id": "FQGWSdrJy08B"
      },
      "source": [
        "#### Solution\n",
        "\n",
        "Click below for the solution."
      ]
    },
    {
      "cell_type": "markdown",
      "metadata": {
        "id": "Ox0tkciby1qq"
      },
      "source": [
        "Select a threshold of 0.5 in the dropdown at the the top of the widget. To view FPR results for gender subgroups, enable the **post_export_metrics/false_positive_rate** checkbox in the left panel. To view FNR results for gender subgroups, enable the **post_export_metrics/false_negative_rate** checkbox in the left panel.\n",
        "\n",
        "**FPR\\@0.5**\n",
        "* `male`: 0.51\n",
        "* `female`: 0.47\n",
        "\n",
        "**FNR\\@0.5**\n",
        "* `male`: 0.13\n",
        "* `female`: 0.15\n",
        "\n",
        "**NOTE:** *Model training is not deterministic, so your exact evaluation results here may vary slightly from ours.*"
      ]
    },
    {
      "cell_type": "markdown",
      "metadata": {
        "id": "pvIhbl_vnsaE"
      },
      "source": [
        "#### **3. What fairness considerations can you identify by comparing aggregate FPR and FNR from #1 above to subgroup FPR and FNR from #2 above?**"
      ]
    },
    {
      "cell_type": "markdown",
      "metadata": {
        "id": "LlkfgynX0yfF"
      },
      "source": [
        "#### Solution\n",
        "\n",
        "Click below for a solution."
      ]
    },
    {
      "cell_type": "markdown",
      "metadata": {
        "id": "bP9PEk36Br_g"
      },
      "source": [
        "The **Diff w/ baseline** column in the Fairness Indicators widget tells us the percent difference between a given subgroup's metric performance and the aggregate (overall) metric performance.\n",
        "\n",
        "False negative rate is lower for both male and female subgroups (–51% and –45%, respectively) than it is overall. In other words, the model is less likely to misclassify a male- or female-related toxic comment as \"nontoxic\" than it is to misclassify toxic comments as \"nontoxic\" overall.\n",
        "\n",
        "![Fairness Indicators results at a Threshold of 0.5 with the post_export_metrics/false_negative_rate metric selected. The \"Diff w. baseline\" results for male and female genders are highlighted: –51.43998% for male and –45.38494 for female.](https://developers.google.com/machine-learning/practica/fairness-indicators/colab-images/fairness_indicators_colab1_exercise3_fnr.png)\n",
        "\n",
        "In contrast, the false positive rate is higher for both male and female subgroups (+83% and +69%) than it is overall. In other words, the model is more likely to misclassify a male- or female-related nontoxic comment as \"toxic\" than it is to misclassify nontoxic comments as \"toxic\" overall.\n",
        "\n",
        "![Fairness Indicators results at a Threshold of 0.5 with the post_export_metrics/false_positive_rate metric selected. The \"Diff w. baseline\" results for male and female genders are highlighted: +82.83489% for male and +68.68737 for female.](https://developers.google.com/machine-learning/practica/fairness-indicators/colab-images/fairness_indicators_colab1_exercise3_fpr.png)\n",
        "\n",
        "**NOTE:** *Model training is not deterministic, so your exact evaluation results here may vary slightly from ours below.*\n",
        "\n",
        "This higher FPR raises issues of fairness that should be remediated. If gender-related comments are more likely to be misclassified as \"toxic,\" then in practice, this could result in gender discourse being disproportionally suppressed."
      ]
    },
    {
      "cell_type": "markdown",
      "metadata": {
        "id": "0gEH2xBvRzYi"
      },
      "source": [
        "## Part IV: Dig Deeper into the Data\n",
        "\n",
        "In this section, you'll use the [What-If Tool's](https://pair-code.github.io/what-if-tool/) interactive visual interface to improve your understanding of how the toxic text classifier classifies individual examples, from which you can extrapolate larger insights.\n",
        "\n",
        "#### **WARNING: When you launch the What-If tool widget below, the left panel will display the full text of individual comments from the Civil Comments dataset. Some of these comments include profanity, offensive statements, and offensive statements involving identity terms. Feel free to skip Part IV if this is a concern.**"
      ]
    },
    {
      "cell_type": "markdown",
      "metadata": {
        "id": "rGQGxt8G-p3y"
      },
      "source": [
        "Launch What-If Tool with 1,000 training examples displayed:"
      ]
    },
    {
      "cell_type": "code",
      "metadata": {
        "id": "9nFGBYRj-erY"
      },
      "source": [
        "# Limit the number of examples to 1000, so that data loads successfully\n",
        "# for most browser/machine configurations. \n",
        "DEFAULT_MAX_EXAMPLES = 1000\n",
        "\n",
        "# Load 100000 examples in memory.\n",
        "def wit_dataset(file, num_examples=100000):\n",
        "  dataset = tf.data.TFRecordDataset(\n",
        "      filenames=[train_tf_file]).take(num_examples)\n",
        "  return [tf.train.Example.FromString(d.numpy()) for d in dataset]\n",
        "\n",
        "wit_data = wit_dataset(train_tf_file)\n",
        "\n",
        "# Configure WIT with 1000 examples, the FEATURE_MAP we defined above, and\n",
        "# a label of 1 for positive (toxic) examples and 0 for negative (nontoxic)\n",
        "# examples\n",
        "config_builder = WitConfigBuilder(wit_data[:DEFAULT_MAX_EXAMPLES]).set_estimator_and_feature_spec(\n",
        "    classifier, FEATURE_MAP).set_label_vocab(['0', '1']).set_target_feature(LABEL)\n",
        "wit = WitWidget(config_builder)"
      ],
      "execution_count": null,
      "outputs": []
    },
    {
      "cell_type": "markdown",
      "metadata": {
        "id": "odeh6SsDUKYq"
      },
      "source": [
        "### Exercise\n",
        "\n",
        "Use the What-If tool to complete the following tasks and answer the associated questions."
      ]
    },
    {
      "cell_type": "markdown",
      "metadata": {
        "id": "N8klOQTWMbO5"
      },
      "source": [
        "#### Task 1\n",
        "\n",
        "Using the **Binning**, **Color By**, **Label by**, and **Scatter** dropdowns at the top of the What-If widget, create a visualization that groups examples by gender, and displays both how each example was categorized (`Inference label`) by the model and whether the classification was correct (`Inference correct`)."
      ]
    },
    {
      "cell_type": "markdown",
      "metadata": {
        "id": "FBhBsevUOinO"
      },
      "source": [
        "#### Solution\n",
        "\n",
        "Click below for one possible solution."
      ]
    },
    {
      "cell_type": "markdown",
      "metadata": {
        "id": "aKbl_6FNOnf1"
      },
      "source": [
        "Here is one possible configuration that groups examples by gender, visualizing both the inference label and whether inference was correct or incorrect for each example:\n",
        "\n",
        "**NOTE:** *Model training is not deterministic, so your exact results in each category may vary slightly from ours.*\n",
        "\n",
        "![Visualization of the What-If tool widget. Description of the visualization follows.](https://developers.google.com/machine-learning/practica/fairness-indicators/colab-images/wit_colab1_exercise1.png)\n",
        "\n"
      ]
    },
    {
      "cell_type": "markdown",
      "metadata": {
        "id": "MaQx5uWJCN3M"
      },
      "source": [
        "In the above visualization, first we set **Binning | Y-Axis** to `gender` to bucket examples by gender on the vertical axis. (We've set both **Scatter** dropdowns to default to clump all the data points together, but you could also scatter by `Inference correct` or `Inference label` to split apart different classifications within each gender group)\n",
        "\n",
        "Next, we set **Color By** to `Inference corrrect` to color-code each example by whether the inference correctly predicted the ground-truth label. Correct predictions are colored blue, and incorrect predictions are colored red.\n",
        "\n",
        "Finally, we set **Label By** to `Inference label` to add a text label to each example that indicates how the model classified the example. Examples that the model classified positive (toxic) are labeled `1`, and examples that the model classified negative (non-toxic) are labeled `0`."
      ]
    },
    {
      "cell_type": "markdown",
      "metadata": {
        "id": "cwTzull2U16-"
      },
      "source": [
        "### Task 2\n",
        "\n",
        "Use the visualization you created in **Task 1** to locate the false positives (examples where the ground-truth label is \"nontoxic\" but the model predicted \"toxic\") in the `female` bucket. How many false positives are there?"
      ]
    },
    {
      "cell_type": "markdown",
      "metadata": {
        "id": "P5MBQR7EF6ny"
      },
      "source": [
        "#### Solution\n",
        "\n",
        "Click below for the solution."
      ]
    },
    {
      "cell_type": "markdown",
      "metadata": {
        "id": "IXuM7rqXcjTD"
      },
      "source": [
        "False positives are the red examples labeled `1` (outlined in yellow below).\n",
        "In our visualization, there are 5 false positives in the `female` bucket.\n",
        "\n",
        "![Zoomed-in view of the \"female\" section of the gender visualization from Task 1, with  5 false positives outlined in yellow.](https://developers.google.com/machine-learning/practica/fairness-indicators/colab-images/wit_colab1_exercise2.png)\n",
        "\n",
        "**NOTE:** *Model training is not deterministic, so your false-positive count may vary slightly from ours.*"
      ]
    },
    {
      "cell_type": "markdown",
      "metadata": {
        "id": "19OAoAraVTx6"
      },
      "source": [
        "### Task 3\n",
        "\n",
        "Can you determine what aspects of the comment text might have influenced the model to incorrectly predict the positive class for the examples you found in **Task 2**? \n",
        "\n",
        "Click on one of the false positives you found, and make some edits to the text in the `comment_text` field in the left panel. Then click **Run inference** below to see what label the model predicts for the revised text. What changes in the text will result in the model predicting a lower toxicity score?"
      ]
    },
    {
      "cell_type": "markdown",
      "metadata": {
        "id": "OaL3qgHCcmwG"
      },
      "source": [
        "#### Solution\n",
        "\n",
        "Click below for one possible avenue to pursue."
      ]
    },
    {
      "cell_type": "markdown",
      "metadata": {
        "id": "R2bZ5_rPcrGW"
      },
      "source": [
        "Try removing gender identity terms from the comments (e.g., `women`, `girl`), and see if that results in lower toxicity scores."
      ]
    }
  ]
}